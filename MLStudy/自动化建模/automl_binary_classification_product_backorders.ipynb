{
 "cells": [
  {
   "cell_type": "markdown",
   "metadata": {},
   "source": [
    "# H2O AutoML Binary Classification Demo\n",
    "\n",
    "This is a [Jupyter](https://jupyter.org/) Notebook. When you execute code within the notebook, the results appear beneath the code. To execute a code chunk, place your cursor on the cell and press *Shift+Enter*. \n",
    "\n",
    "### Start H2O\n",
    "\n",
    "Import the **h2o** Python module and `H2OAutoML` class and initialize a local H2O cluster."
   ]
  },
  {
   "cell_type": "code",
   "execution_count": 1,
   "metadata": {
    "collapsed": false
   },
   "outputs": [
    {
     "name": "stdout",
     "output_type": "stream",
     "text": [
      "Checking whether there is an H2O instance running at http://localhost:54321"
     ]
    },
    {
     "name": "stdout",
     "output_type": "stream",
     "text": [
      "."
     ]
    },
    {
     "name": "stdout",
     "output_type": "stream",
     "text": [
      "."
     ]
    },
    {
     "name": "stdout",
     "output_type": "stream",
     "text": [
      "."
     ]
    },
    {
     "name": "stdout",
     "output_type": "stream",
     "text": [
      "."
     ]
    },
    {
     "name": "stdout",
     "output_type": "stream",
     "text": [
      "."
     ]
    },
    {
     "name": "stdout",
     "output_type": "stream",
     "text": [
      " not found."
     ]
    },
    {
     "name": "stdout",
     "output_type": "stream",
     "text": [
      "\n"
     ]
    },
    {
     "name": "stdout",
     "output_type": "stream",
     "text": [
      "Attempting to start a local H2O server..."
     ]
    },
    {
     "name": "stdout",
     "output_type": "stream",
     "text": [
      "\n"
     ]
    },
    {
     "name": "stdout",
     "output_type": "stream",
     "text": [
      "  Java Version: java version \"1.8.0_171\"\r; Java(TM) SE Runtime Environment (build 1.8.0_171-b11)\r; Java HotSpot(TM) 64-Bit Server VM (build 25.171-b11, mixed mode)"
     ]
    },
    {
     "name": "stdout",
     "output_type": "stream",
     "text": [
      "\n"
     ]
    },
    {
     "name": "stdout",
     "output_type": "stream",
     "text": [
      "  Starting server from D:\\Users\\fjc-pc\\Anaconda3\\lib\\site-packages\\h2o\\backend\\bin\\h2o.jar"
     ]
    },
    {
     "name": "stdout",
     "output_type": "stream",
     "text": [
      "\n"
     ]
    },
    {
     "name": "stdout",
     "output_type": "stream",
     "text": [
      "  Ice root: C:\\Users\\fjc-pc\\AppData\\Local\\Temp\\tmpx4s072ed"
     ]
    },
    {
     "name": "stdout",
     "output_type": "stream",
     "text": [
      "\n"
     ]
    },
    {
     "name": "stdout",
     "output_type": "stream",
     "text": [
      "  JVM stdout: C:\\Users\\fjc-pc\\AppData\\Local\\Temp\\tmpx4s072ed\\h2o_fjc_pc_started_from_python.out"
     ]
    },
    {
     "name": "stdout",
     "output_type": "stream",
     "text": [
      "\n"
     ]
    },
    {
     "name": "stdout",
     "output_type": "stream",
     "text": [
      "  JVM stderr: C:\\Users\\fjc-pc\\AppData\\Local\\Temp\\tmpx4s072ed\\h2o_fjc_pc_started_from_python.err"
     ]
    },
    {
     "name": "stdout",
     "output_type": "stream",
     "text": [
      "\n"
     ]
    },
    {
     "name": "stdout",
     "output_type": "stream",
     "text": [
      "  Server is running at http://127.0.0.1:54321"
     ]
    },
    {
     "name": "stdout",
     "output_type": "stream",
     "text": [
      "\n"
     ]
    },
    {
     "name": "stdout",
     "output_type": "stream",
     "text": [
      "Connecting to H2O server at http://127.0.0.1:54321.."
     ]
    },
    {
     "name": "stdout",
     "output_type": "stream",
     "text": [
      "."
     ]
    },
    {
     "name": "stdout",
     "output_type": "stream",
     "text": [
      " successful."
     ]
    },
    {
     "name": "stdout",
     "output_type": "stream",
     "text": [
      "\n"
     ]
    },
    {
     "data": {
      "text/html": [
       "<div style=\"overflow:auto\"><table style=\"width:50%\"><tr><td>H2O cluster uptime:</td>\n",
       "<td>02 secs</td></tr>\n",
       "<tr><td>H2O cluster timezone:</td>\n",
       "<td>Asia/Shanghai</td></tr>\n",
       "<tr><td>H2O data parsing timezone:</td>\n",
       "<td>UTC</td></tr>\n",
       "<tr><td>H2O cluster version:</td>\n",
       "<td>3.22.1.6</td></tr>\n",
       "<tr><td>H2O cluster version age:</td>\n",
       "<td>13 days </td></tr>\n",
       "<tr><td>H2O cluster name:</td>\n",
       "<td>H2O_from_python_fjc_pc_jcupan</td></tr>\n",
       "<tr><td>H2O cluster total nodes:</td>\n",
       "<td>1</td></tr>\n",
       "<tr><td>H2O cluster free memory:</td>\n",
       "<td>3.521 Gb</td></tr>\n",
       "<tr><td>H2O cluster total cores:</td>\n",
       "<td>0</td></tr>\n",
       "<tr><td>H2O cluster allowed cores:</td>\n",
       "<td>0</td></tr>\n",
       "<tr><td>H2O cluster status:</td>\n",
       "<td>accepting new members, healthy</td></tr>\n",
       "<tr><td>H2O connection url:</td>\n",
       "<td>http://127.0.0.1:54321</td></tr>\n",
       "<tr><td>H2O connection proxy:</td>\n",
       "<td>None</td></tr>\n",
       "<tr><td>H2O internal security:</td>\n",
       "<td>False</td></tr>\n",
       "<tr><td>H2O API Extensions:</td>\n",
       "<td>Amazon S3, Algos, AutoML, Core V3, Core V4</td></tr>\n",
       "<tr><td>Python version:</td>\n",
       "<td>3.6.5 final</td></tr></table></div>"
      ],
      "text/plain": [
       "<div style=\"overflow:auto\"><table style=\"width:50%\"><tr><td>H2O cluster uptime:</td>\n",
       "<td>02 secs</td></tr>\n",
       "<tr><td>H2O cluster timezone:</td>\n",
       "<td>Asia/Shanghai</td></tr>\n",
       "<tr><td>H2O data parsing timezone:</td>\n",
       "<td>UTC</td></tr>\n",
       "<tr><td>H2O cluster version:</td>\n",
       "<td>3.22.1.6</td></tr>\n",
       "<tr><td>H2O cluster version age:</td>\n",
       "<td>13 days </td></tr>\n",
       "<tr><td>H2O cluster name:</td>\n",
       "<td>H2O_from_python_fjc_pc_jcupan</td></tr>\n",
       "<tr><td>H2O cluster total nodes:</td>\n",
       "<td>1</td></tr>\n",
       "<tr><td>H2O cluster free memory:</td>\n",
       "<td>3.521 Gb</td></tr>\n",
       "<tr><td>H2O cluster total cores:</td>\n",
       "<td>0</td></tr>\n",
       "<tr><td>H2O cluster allowed cores:</td>\n",
       "<td>0</td></tr>\n",
       "<tr><td>H2O cluster status:</td>\n",
       "<td>accepting new members, healthy</td></tr>\n",
       "<tr><td>H2O connection url:</td>\n",
       "<td>http://127.0.0.1:54321</td></tr>\n",
       "<tr><td>H2O connection proxy:</td>\n",
       "<td>None</td></tr>\n",
       "<tr><td>H2O internal security:</td>\n",
       "<td>False</td></tr>\n",
       "<tr><td>H2O API Extensions:</td>\n",
       "<td>Amazon S3, Algos, AutoML, Core V3, Core V4</td></tr>\n",
       "<tr><td>Python version:</td>\n",
       "<td>3.6.5 final</td></tr></table></div>"
      ]
     },
     "execution_count": 0,
     "metadata": {},
     "output_type": "execute_result"
    }
   ],
   "source": [
    "import h2o\n",
    "from h2o.automl import H2OAutoML\n",
    "h2o.init()"
   ]
  },
  {
   "cell_type": "markdown",
   "metadata": {},
   "source": [
    "### Load Data\n",
    "\n",
    "For the AutoML binary classification demo, we use a subset of the [Product Backorders](https://www.kaggle.com/tiredgeek/predict-bo-trial/data) dataset.  The goal here is to predict whether or not a product will be put on backorder status, given a number of product metrics such as current inventory, transit time, demand forecasts and prior sales."
   ]
  },
  {
   "cell_type": "code",
   "execution_count": 4,
   "metadata": {},
   "outputs": [
    {
     "name": "stdout",
     "output_type": "stream",
     "text": [
      "Parse progress: |"
     ]
    },
    {
     "name": "stdout",
     "output_type": "stream",
     "text": [
      "█"
     ]
    },
    {
     "name": "stdout",
     "output_type": "stream",
     "text": [
      "█"
     ]
    },
    {
     "name": "stdout",
     "output_type": "stream",
     "text": [
      "█"
     ]
    },
    {
     "name": "stdout",
     "output_type": "stream",
     "text": [
      "█"
     ]
    },
    {
     "name": "stdout",
     "output_type": "stream",
     "text": [
      "█"
     ]
    },
    {
     "name": "stdout",
     "output_type": "stream",
     "text": [
      "█"
     ]
    },
    {
     "name": "stdout",
     "output_type": "stream",
     "text": [
      "█"
     ]
    },
    {
     "name": "stdout",
     "output_type": "stream",
     "text": [
      "█"
     ]
    },
    {
     "name": "stdout",
     "output_type": "stream",
     "text": [
      "█"
     ]
    },
    {
     "name": "stdout",
     "output_type": "stream",
     "text": [
      "█"
     ]
    },
    {
     "name": "stdout",
     "output_type": "stream",
     "text": [
      "█"
     ]
    },
    {
     "name": "stdout",
     "output_type": "stream",
     "text": [
      "█"
     ]
    },
    {
     "name": "stdout",
     "output_type": "stream",
     "text": [
      "█"
     ]
    },
    {
     "name": "stdout",
     "output_type": "stream",
     "text": [
      "█"
     ]
    },
    {
     "name": "stdout",
     "output_type": "stream",
     "text": [
      "█"
     ]
    },
    {
     "name": "stdout",
     "output_type": "stream",
     "text": [
      "█"
     ]
    },
    {
     "name": "stdout",
     "output_type": "stream",
     "text": [
      "█"
     ]
    },
    {
     "name": "stdout",
     "output_type": "stream",
     "text": [
      "█"
     ]
    },
    {
     "name": "stdout",
     "output_type": "stream",
     "text": [
      "█"
     ]
    },
    {
     "name": "stdout",
     "output_type": "stream",
     "text": [
      "█"
     ]
    },
    {
     "name": "stdout",
     "output_type": "stream",
     "text": [
      "█"
     ]
    },
    {
     "name": "stdout",
     "output_type": "stream",
     "text": [
      "█"
     ]
    },
    {
     "name": "stdout",
     "output_type": "stream",
     "text": [
      "█"
     ]
    },
    {
     "name": "stdout",
     "output_type": "stream",
     "text": [
      "█"
     ]
    },
    {
     "name": "stdout",
     "output_type": "stream",
     "text": [
      "█"
     ]
    },
    {
     "name": "stdout",
     "output_type": "stream",
     "text": [
      "█"
     ]
    },
    {
     "name": "stdout",
     "output_type": "stream",
     "text": [
      "█"
     ]
    },
    {
     "name": "stdout",
     "output_type": "stream",
     "text": [
      "█"
     ]
    },
    {
     "name": "stdout",
     "output_type": "stream",
     "text": [
      "█"
     ]
    },
    {
     "name": "stdout",
     "output_type": "stream",
     "text": [
      "█"
     ]
    },
    {
     "name": "stdout",
     "output_type": "stream",
     "text": [
      "█"
     ]
    },
    {
     "name": "stdout",
     "output_type": "stream",
     "text": [
      "█"
     ]
    },
    {
     "name": "stdout",
     "output_type": "stream",
     "text": [
      "█"
     ]
    },
    {
     "name": "stdout",
     "output_type": "stream",
     "text": [
      "█"
     ]
    },
    {
     "name": "stdout",
     "output_type": "stream",
     "text": [
      "█"
     ]
    },
    {
     "name": "stdout",
     "output_type": "stream",
     "text": [
      "█"
     ]
    },
    {
     "name": "stdout",
     "output_type": "stream",
     "text": [
      "█"
     ]
    },
    {
     "name": "stdout",
     "output_type": "stream",
     "text": [
      "█"
     ]
    },
    {
     "name": "stdout",
     "output_type": "stream",
     "text": [
      "█"
     ]
    },
    {
     "name": "stdout",
     "output_type": "stream",
     "text": [
      "█"
     ]
    },
    {
     "name": "stdout",
     "output_type": "stream",
     "text": [
      "█"
     ]
    },
    {
     "name": "stdout",
     "output_type": "stream",
     "text": [
      "█"
     ]
    },
    {
     "name": "stdout",
     "output_type": "stream",
     "text": [
      "█"
     ]
    },
    {
     "name": "stdout",
     "output_type": "stream",
     "text": [
      "█"
     ]
    },
    {
     "name": "stdout",
     "output_type": "stream",
     "text": [
      "█"
     ]
    },
    {
     "name": "stdout",
     "output_type": "stream",
     "text": [
      "█"
     ]
    },
    {
     "name": "stdout",
     "output_type": "stream",
     "text": [
      "█"
     ]
    },
    {
     "name": "stdout",
     "output_type": "stream",
     "text": [
      "█"
     ]
    },
    {
     "name": "stdout",
     "output_type": "stream",
     "text": [
      "█"
     ]
    },
    {
     "name": "stdout",
     "output_type": "stream",
     "text": [
      "█"
     ]
    },
    {
     "name": "stdout",
     "output_type": "stream",
     "text": [
      "█"
     ]
    },
    {
     "name": "stdout",
     "output_type": "stream",
     "text": [
      "█"
     ]
    },
    {
     "name": "stdout",
     "output_type": "stream",
     "text": [
      "█"
     ]
    },
    {
     "name": "stdout",
     "output_type": "stream",
     "text": [
      "█"
     ]
    },
    {
     "name": "stdout",
     "output_type": "stream",
     "text": [
      "█"
     ]
    },
    {
     "name": "stdout",
     "output_type": "stream",
     "text": [
      "█"
     ]
    },
    {
     "name": "stdout",
     "output_type": "stream",
     "text": [
      "█| 100%"
     ]
    },
    {
     "name": "stdout",
     "output_type": "stream",
     "text": [
      "\n"
     ]
    }
   ],
   "source": [
    "# Use local data file or download from GitHub\n",
    "import os\n",
    "docker_data_path = \"/home/h2o/data/automl/product_backorders.csv\"\n",
    "if os.path.isfile(docker_data_path):\n",
    "  data_path = docker_data_path\n",
    "else:\n",
    "  data_path = \"https://github.com/h2oai/h2o-tutorials/raw/master/h2o-world-2017/automl/data/product_backorders.csv\"\n",
    "\n",
    "\n",
    "# Load data into H2O\n",
    "df = h2o.import_file(data_path)"
   ]
  },
  {
   "cell_type": "markdown",
   "metadata": {},
   "source": [
    "For classification, the response should be encoded as categorical (aka. \"factor\" or \"enum\"). Let's take a look."
   ]
  },
  {
   "cell_type": "code",
   "execution_count": 12,
   "metadata": {},
   "outputs": [
    {
     "name": "stdout",
     "output_type": "stream",
     "text": [
      "Rows:19053"
     ]
    },
    {
     "name": "stdout",
     "output_type": "stream",
     "text": [
      "\n"
     ]
    },
    {
     "name": "stdout",
     "output_type": "stream",
     "text": [
      "Cols:23"
     ]
    },
    {
     "name": "stdout",
     "output_type": "stream",
     "text": [
      "\n"
     ]
    },
    {
     "name": "stdout",
     "output_type": "stream",
     "text": [
      "\n"
     ]
    },
    {
     "name": "stdout",
     "output_type": "stream",
     "text": [
      "\n"
     ]
    },
    {
     "data": {
      "text/html": [
       "<table>\n",
       "<thead>\n",
       "<tr><th>       </th><th>sku              </th><th>national_inv      </th><th>lead_time         </th><th>in_transit_qty    </th><th>forecast_3_month  </th><th>forecast_6_month  </th><th>forecast_9_month  </th><th>sales_1_month     </th><th>sales_3_month     </th><th>sales_6_month     </th><th>sales_9_month     </th><th>min_bank         </th><th>potential_issue  </th><th>pieces_past_due   </th><th>perf_6_month_avg   </th><th>perf_12_month_avg  </th><th>local_bo_qty      </th><th>deck_risk  </th><th>oe_constraint  </th><th>ppap_risk  </th><th>stop_auto_buy  </th><th>rev_stop  </th><th>went_on_backorder  </th></tr>\n",
       "</thead>\n",
       "<tbody>\n",
       "<tr><td>type   </td><td>int              </td><td>int               </td><td>int               </td><td>int               </td><td>int               </td><td>int               </td><td>int               </td><td>int               </td><td>int               </td><td>int               </td><td>int               </td><td>int              </td><td>enum             </td><td>int               </td><td>real               </td><td>real               </td><td>int               </td><td>enum       </td><td>enum           </td><td>enum       </td><td>enum           </td><td>enum      </td><td>enum               </td></tr>\n",
       "<tr><td>mins   </td><td>1111620.0        </td><td>-1440.0           </td><td>0.0               </td><td>0.0               </td><td>0.0               </td><td>0.0               </td><td>0.0               </td><td>0.0               </td><td>0.0               </td><td>0.0               </td><td>0.0               </td><td>0.0              </td><td>                 </td><td>0.0               </td><td>-99.0              </td><td>-99.0              </td><td>0.0               </td><td>           </td><td>               </td><td>           </td><td>               </td><td>          </td><td>                   </td></tr>\n",
       "<tr><td>mean   </td><td>2059552.760562641</td><td>376.36702881435997</td><td>7.706036161335188 </td><td>48.27234556237863 </td><td>182.9108276911772 </td><td>344.7398309977431 </td><td>497.79242114102766</td><td>56.11887891670601 </td><td>168.53445651603428</td><td>333.53219965359784</td><td>504.25539285151945</td><td>48.84070750013119</td><td>                 </td><td>2.3114995013908577</td><td>-6.5198336220017845</td><td>-6.05393533826694  </td><td>0.8917755734005144</td><td>           </td><td>               </td><td>           </td><td>               </td><td>          </td><td>                   </td></tr>\n",
       "<tr><td>maxs   </td><td>3284775.0        </td><td>730722.0          </td><td>52.0              </td><td>170920.0          </td><td>479808.0          </td><td>967776.0          </td><td>1418208.0         </td><td>186451.0          </td><td>550609.0          </td><td>1136154.0         </td><td>1759152.0         </td><td>85584.0          </td><td>                 </td><td>13824.0           </td><td>1.0                </td><td>1.0                </td><td>1440.0            </td><td>           </td><td>               </td><td>           </td><td>               </td><td>          </td><td>                   </td></tr>\n",
       "<tr><td>sigma  </td><td>663337.6456498681</td><td>7002.071628662684 </td><td>6.7786650721241895</td><td>1465.9992102068286</td><td>4304.865591970627 </td><td>8406.062155159249 </td><td>12180.570042918363</td><td>1544.2177775482571</td><td>4581.340080221506 </td><td>9294.566153218984 </td><td>14184.14539565362 </td><td>968.7738680675267</td><td>                 </td><td>110.24106014611976</td><td>25.975138766871872 </td><td>25.18449715003253  </td><td>23.033345417338797</td><td>           </td><td>               </td><td>           </td><td>               </td><td>          </td><td>                   </td></tr>\n",
       "<tr><td>zeros  </td><td>0                </td><td>1858              </td><td>121               </td><td>15432             </td><td>12118             </td><td>11136             </td><td>10604             </td><td>10278             </td><td>8022              </td><td>6864              </td><td>6231              </td><td>9909             </td><td>                 </td><td>18601             </td><td>474                </td><td>401                </td><td>18585             </td><td>           </td><td>               </td><td>           </td><td>               </td><td>          </td><td>                   </td></tr>\n",
       "<tr><td>missing</td><td>0                </td><td>0                 </td><td>1078              </td><td>0                 </td><td>0                 </td><td>0                 </td><td>0                 </td><td>0                 </td><td>0                 </td><td>0                 </td><td>0                 </td><td>0                </td><td>0                </td><td>0                 </td><td>0                  </td><td>0                  </td><td>0                 </td><td>0          </td><td>0              </td><td>0          </td><td>0              </td><td>0         </td><td>0                  </td></tr>\n",
       "<tr><td>0      </td><td>1113121.0        </td><td>0.0               </td><td>8.0               </td><td>1.0               </td><td>6.0               </td><td>6.0               </td><td>6.0               </td><td>0.0               </td><td>4.0               </td><td>9.0               </td><td>12.0              </td><td>0.0              </td><td>No               </td><td>1.0               </td><td>0.9                </td><td>0.89               </td><td>0.0               </td><td>No         </td><td>No             </td><td>No         </td><td>Yes            </td><td>No        </td><td>Yes                </td></tr>\n",
       "<tr><td>1      </td><td>1113268.0        </td><td>0.0               </td><td>8.0               </td><td>0.0               </td><td>2.0               </td><td>3.0               </td><td>4.0               </td><td>1.0               </td><td>2.0               </td><td>3.0               </td><td>3.0               </td><td>0.0              </td><td>No               </td><td>0.0               </td><td>0.96               </td><td>0.97               </td><td>0.0               </td><td>No         </td><td>No             </td><td>No         </td><td>Yes            </td><td>No        </td><td>Yes                </td></tr>\n",
       "<tr><td>2      </td><td>1113874.0        </td><td>20.0              </td><td>2.0               </td><td>0.0               </td><td>45.0              </td><td>99.0              </td><td>153.0             </td><td>16.0              </td><td>42.0              </td><td>80.0              </td><td>111.0             </td><td>10.0             </td><td>No               </td><td>0.0               </td><td>0.81               </td><td>0.88               </td><td>0.0               </td><td>No         </td><td>No             </td><td>No         </td><td>Yes            </td><td>No        </td><td>Yes                </td></tr>\n",
       "<tr><td>3      </td><td>1114222.0        </td><td>0.0               </td><td>8.0               </td><td>0.0               </td><td>9.0               </td><td>14.0              </td><td>21.0              </td><td>5.0               </td><td>17.0              </td><td>36.0              </td><td>43.0              </td><td>0.0              </td><td>No               </td><td>0.0               </td><td>0.96               </td><td>0.98               </td><td>0.0               </td><td>No         </td><td>No             </td><td>No         </td><td>Yes            </td><td>No        </td><td>Yes                </td></tr>\n",
       "<tr><td>4      </td><td>1114823.0        </td><td>0.0               </td><td>12.0              </td><td>0.0               </td><td>31.0              </td><td>31.0              </td><td>31.0              </td><td>7.0               </td><td>15.0              </td><td>33.0              </td><td>47.0              </td><td>2.0              </td><td>No               </td><td>3.0               </td><td>0.98               </td><td>0.98               </td><td>0.0               </td><td>No         </td><td>No             </td><td>No         </td><td>Yes            </td><td>No        </td><td>Yes                </td></tr>\n",
       "<tr><td>5      </td><td>1115453.0        </td><td>55.0              </td><td>8.0               </td><td>0.0               </td><td>216.0             </td><td>360.0             </td><td>492.0             </td><td>30.0              </td><td>108.0             </td><td>275.0             </td><td>340.0             </td><td>51.0             </td><td>No               </td><td>0.0               </td><td>0.0                </td><td>0.0                </td><td>0.0               </td><td>No         </td><td>No             </td><td>Yes        </td><td>Yes            </td><td>No        </td><td>Yes                </td></tr>\n",
       "<tr><td>6      </td><td>1115620.0        </td><td>-34.0             </td><td>8.0               </td><td>0.0               </td><td>120.0             </td><td>240.0             </td><td>240.0             </td><td>83.0              </td><td>122.0             </td><td>144.0             </td><td>165.0             </td><td>33.0             </td><td>No               </td><td>0.0               </td><td>1.0                </td><td>0.97               </td><td>34.0              </td><td>No         </td><td>No             </td><td>No         </td><td>Yes            </td><td>No        </td><td>Yes                </td></tr>\n",
       "<tr><td>7      </td><td>1116446.0        </td><td>4.0               </td><td>9.0               </td><td>0.0               </td><td>43.0              </td><td>67.0              </td><td>115.0             </td><td>5.0               </td><td>22.0              </td><td>40.0              </td><td>58.0              </td><td>4.0              </td><td>No               </td><td>0.0               </td><td>0.69               </td><td>0.68               </td><td>0.0               </td><td>No         </td><td>No             </td><td>No         </td><td>Yes            </td><td>No        </td><td>Yes                </td></tr>\n",
       "<tr><td>8      </td><td>1116834.0        </td><td>2.0               </td><td>8.0               </td><td>0.0               </td><td>4.0               </td><td>6.0               </td><td>9.0               </td><td>1.0               </td><td>5.0               </td><td>6.0               </td><td>9.0               </td><td>2.0              </td><td>No               </td><td>0.0               </td><td>1.0                </td><td>0.95               </td><td>0.0               </td><td>No         </td><td>No             </td><td>No         </td><td>Yes            </td><td>No        </td><td>Yes                </td></tr>\n",
       "<tr><td>9      </td><td>1116868.0        </td><td>-7.0              </td><td>8.0               </td><td>0.0               </td><td>56.0              </td><td>96.0              </td><td>112.0             </td><td>13.0              </td><td>30.0              </td><td>56.0              </td><td>76.0              </td><td>0.0              </td><td>No               </td><td>0.0               </td><td>0.97               </td><td>0.92               </td><td>7.0               </td><td>No         </td><td>No             </td><td>No         </td><td>Yes            </td><td>No        </td><td>Yes                </td></tr>\n",
       "</tbody>\n",
       "</table>"
      ],
      "text/plain": [
       "<table>\n",
       "<thead>\n",
       "<tr><th>       </th><th>sku              </th><th>national_inv      </th><th>lead_time         </th><th>in_transit_qty    </th><th>forecast_3_month  </th><th>forecast_6_month  </th><th>forecast_9_month  </th><th>sales_1_month     </th><th>sales_3_month     </th><th>sales_6_month     </th><th>sales_9_month     </th><th>min_bank         </th><th>potential_issue  </th><th>pieces_past_due   </th><th>perf_6_month_avg   </th><th>perf_12_month_avg  </th><th>local_bo_qty      </th><th>deck_risk  </th><th>oe_constraint  </th><th>ppap_risk  </th><th>stop_auto_buy  </th><th>rev_stop  </th><th>went_on_backorder  </th></tr>\n",
       "</thead>\n",
       "<tbody>\n",
       "<tr><td>type   </td><td>int              </td><td>int               </td><td>int               </td><td>int               </td><td>int               </td><td>int               </td><td>int               </td><td>int               </td><td>int               </td><td>int               </td><td>int               </td><td>int              </td><td>enum             </td><td>int               </td><td>real               </td><td>real               </td><td>int               </td><td>enum       </td><td>enum           </td><td>enum       </td><td>enum           </td><td>enum      </td><td>enum               </td></tr>\n",
       "<tr><td>mins   </td><td>1111620.0        </td><td>-1440.0           </td><td>0.0               </td><td>0.0               </td><td>0.0               </td><td>0.0               </td><td>0.0               </td><td>0.0               </td><td>0.0               </td><td>0.0               </td><td>0.0               </td><td>0.0              </td><td>                 </td><td>0.0               </td><td>-99.0              </td><td>-99.0              </td><td>0.0               </td><td>           </td><td>               </td><td>           </td><td>               </td><td>          </td><td>                   </td></tr>\n",
       "<tr><td>mean   </td><td>2059552.760562641</td><td>376.36702881435997</td><td>7.706036161335188 </td><td>48.27234556237863 </td><td>182.9108276911772 </td><td>344.7398309977431 </td><td>497.79242114102766</td><td>56.11887891670601 </td><td>168.53445651603428</td><td>333.53219965359784</td><td>504.25539285151945</td><td>48.84070750013119</td><td>                 </td><td>2.3114995013908577</td><td>-6.5198336220017845</td><td>-6.05393533826694  </td><td>0.8917755734005144</td><td>           </td><td>               </td><td>           </td><td>               </td><td>          </td><td>                   </td></tr>\n",
       "<tr><td>maxs   </td><td>3284775.0        </td><td>730722.0          </td><td>52.0              </td><td>170920.0          </td><td>479808.0          </td><td>967776.0          </td><td>1418208.0         </td><td>186451.0          </td><td>550609.0          </td><td>1136154.0         </td><td>1759152.0         </td><td>85584.0          </td><td>                 </td><td>13824.0           </td><td>1.0                </td><td>1.0                </td><td>1440.0            </td><td>           </td><td>               </td><td>           </td><td>               </td><td>          </td><td>                   </td></tr>\n",
       "<tr><td>sigma  </td><td>663337.6456498681</td><td>7002.071628662684 </td><td>6.7786650721241895</td><td>1465.9992102068286</td><td>4304.865591970627 </td><td>8406.062155159249 </td><td>12180.570042918363</td><td>1544.2177775482571</td><td>4581.340080221506 </td><td>9294.566153218984 </td><td>14184.14539565362 </td><td>968.7738680675267</td><td>                 </td><td>110.24106014611976</td><td>25.975138766871872 </td><td>25.18449715003253  </td><td>23.033345417338797</td><td>           </td><td>               </td><td>           </td><td>               </td><td>          </td><td>                   </td></tr>\n",
       "<tr><td>zeros  </td><td>0                </td><td>1858              </td><td>121               </td><td>15432             </td><td>12118             </td><td>11136             </td><td>10604             </td><td>10278             </td><td>8022              </td><td>6864              </td><td>6231              </td><td>9909             </td><td>                 </td><td>18601             </td><td>474                </td><td>401                </td><td>18585             </td><td>           </td><td>               </td><td>           </td><td>               </td><td>          </td><td>                   </td></tr>\n",
       "<tr><td>missing</td><td>0                </td><td>0                 </td><td>1078              </td><td>0                 </td><td>0                 </td><td>0                 </td><td>0                 </td><td>0                 </td><td>0                 </td><td>0                 </td><td>0                 </td><td>0                </td><td>0                </td><td>0                 </td><td>0                  </td><td>0                  </td><td>0                 </td><td>0          </td><td>0              </td><td>0          </td><td>0              </td><td>0         </td><td>0                  </td></tr>\n",
       "<tr><td>0      </td><td>1113121.0        </td><td>0.0               </td><td>8.0               </td><td>1.0               </td><td>6.0               </td><td>6.0               </td><td>6.0               </td><td>0.0               </td><td>4.0               </td><td>9.0               </td><td>12.0              </td><td>0.0              </td><td>No               </td><td>1.0               </td><td>0.9                </td><td>0.89               </td><td>0.0               </td><td>No         </td><td>No             </td><td>No         </td><td>Yes            </td><td>No        </td><td>Yes                </td></tr>\n",
       "<tr><td>1      </td><td>1113268.0        </td><td>0.0               </td><td>8.0               </td><td>0.0               </td><td>2.0               </td><td>3.0               </td><td>4.0               </td><td>1.0               </td><td>2.0               </td><td>3.0               </td><td>3.0               </td><td>0.0              </td><td>No               </td><td>0.0               </td><td>0.96               </td><td>0.97               </td><td>0.0               </td><td>No         </td><td>No             </td><td>No         </td><td>Yes            </td><td>No        </td><td>Yes                </td></tr>\n",
       "<tr><td>2      </td><td>1113874.0        </td><td>20.0              </td><td>2.0               </td><td>0.0               </td><td>45.0              </td><td>99.0              </td><td>153.0             </td><td>16.0              </td><td>42.0              </td><td>80.0              </td><td>111.0             </td><td>10.0             </td><td>No               </td><td>0.0               </td><td>0.81               </td><td>0.88               </td><td>0.0               </td><td>No         </td><td>No             </td><td>No         </td><td>Yes            </td><td>No        </td><td>Yes                </td></tr>\n",
       "<tr><td>3      </td><td>1114222.0        </td><td>0.0               </td><td>8.0               </td><td>0.0               </td><td>9.0               </td><td>14.0              </td><td>21.0              </td><td>5.0               </td><td>17.0              </td><td>36.0              </td><td>43.0              </td><td>0.0              </td><td>No               </td><td>0.0               </td><td>0.96               </td><td>0.98               </td><td>0.0               </td><td>No         </td><td>No             </td><td>No         </td><td>Yes            </td><td>No        </td><td>Yes                </td></tr>\n",
       "<tr><td>4      </td><td>1114823.0        </td><td>0.0               </td><td>12.0              </td><td>0.0               </td><td>31.0              </td><td>31.0              </td><td>31.0              </td><td>7.0               </td><td>15.0              </td><td>33.0              </td><td>47.0              </td><td>2.0              </td><td>No               </td><td>3.0               </td><td>0.98               </td><td>0.98               </td><td>0.0               </td><td>No         </td><td>No             </td><td>No         </td><td>Yes            </td><td>No        </td><td>Yes                </td></tr>\n",
       "<tr><td>5      </td><td>1115453.0        </td><td>55.0              </td><td>8.0               </td><td>0.0               </td><td>216.0             </td><td>360.0             </td><td>492.0             </td><td>30.0              </td><td>108.0             </td><td>275.0             </td><td>340.0             </td><td>51.0             </td><td>No               </td><td>0.0               </td><td>0.0                </td><td>0.0                </td><td>0.0               </td><td>No         </td><td>No             </td><td>Yes        </td><td>Yes            </td><td>No        </td><td>Yes                </td></tr>\n",
       "<tr><td>6      </td><td>1115620.0        </td><td>-34.0             </td><td>8.0               </td><td>0.0               </td><td>120.0             </td><td>240.0             </td><td>240.0             </td><td>83.0              </td><td>122.0             </td><td>144.0             </td><td>165.0             </td><td>33.0             </td><td>No               </td><td>0.0               </td><td>1.0                </td><td>0.97               </td><td>34.0              </td><td>No         </td><td>No             </td><td>No         </td><td>Yes            </td><td>No        </td><td>Yes                </td></tr>\n",
       "<tr><td>7      </td><td>1116446.0        </td><td>4.0               </td><td>9.0               </td><td>0.0               </td><td>43.0              </td><td>67.0              </td><td>115.0             </td><td>5.0               </td><td>22.0              </td><td>40.0              </td><td>58.0              </td><td>4.0              </td><td>No               </td><td>0.0               </td><td>0.69               </td><td>0.68               </td><td>0.0               </td><td>No         </td><td>No             </td><td>No         </td><td>Yes            </td><td>No        </td><td>Yes                </td></tr>\n",
       "<tr><td>8      </td><td>1116834.0        </td><td>2.0               </td><td>8.0               </td><td>0.0               </td><td>4.0               </td><td>6.0               </td><td>9.0               </td><td>1.0               </td><td>5.0               </td><td>6.0               </td><td>9.0               </td><td>2.0              </td><td>No               </td><td>0.0               </td><td>1.0                </td><td>0.95               </td><td>0.0               </td><td>No         </td><td>No             </td><td>No         </td><td>Yes            </td><td>No        </td><td>Yes                </td></tr>\n",
       "<tr><td>9      </td><td>1116868.0        </td><td>-7.0              </td><td>8.0               </td><td>0.0               </td><td>56.0              </td><td>96.0              </td><td>112.0             </td><td>13.0              </td><td>30.0              </td><td>56.0              </td><td>76.0              </td><td>0.0              </td><td>No               </td><td>0.0               </td><td>0.97               </td><td>0.92               </td><td>7.0               </td><td>No         </td><td>No             </td><td>No         </td><td>Yes            </td><td>No        </td><td>Yes                </td></tr>\n",
       "</tbody>\n",
       "</table>"
      ]
     },
     "execution_count": 0,
     "metadata": {},
     "output_type": "execute_result"
    },
    {
     "data": {
      "text/html": [
       "<table>\n",
       "<thead>\n",
       "<tr><th style=\"text-align: right;\">        sku</th><th style=\"text-align: right;\">  national_inv</th><th style=\"text-align: right;\">  lead_time</th><th style=\"text-align: right;\">  in_transit_qty</th><th style=\"text-align: right;\">  forecast_3_month</th><th style=\"text-align: right;\">  forecast_6_month</th><th style=\"text-align: right;\">  forecast_9_month</th><th style=\"text-align: right;\">  sales_1_month</th><th style=\"text-align: right;\">  sales_3_month</th><th style=\"text-align: right;\">  sales_6_month</th><th style=\"text-align: right;\">  sales_9_month</th><th style=\"text-align: right;\">  min_bank</th><th>potential_issue  </th><th style=\"text-align: right;\">  pieces_past_due</th><th style=\"text-align: right;\">  perf_6_month_avg</th><th style=\"text-align: right;\">  perf_12_month_avg</th><th style=\"text-align: right;\">  local_bo_qty</th><th>deck_risk  </th><th>oe_constraint  </th><th>ppap_risk  </th><th>stop_auto_buy  </th><th>rev_stop  </th><th>went_on_backorder  </th></tr>\n",
       "</thead>\n",
       "<tbody>\n",
       "<tr><td style=\"text-align: right;\">1.11312e+06</td><td style=\"text-align: right;\">             0</td><td style=\"text-align: right;\">          8</td><td style=\"text-align: right;\">               1</td><td style=\"text-align: right;\">                 6</td><td style=\"text-align: right;\">                 6</td><td style=\"text-align: right;\">                 6</td><td style=\"text-align: right;\">              0</td><td style=\"text-align: right;\">              4</td><td style=\"text-align: right;\">              9</td><td style=\"text-align: right;\">             12</td><td style=\"text-align: right;\">         0</td><td>No               </td><td style=\"text-align: right;\">                1</td><td style=\"text-align: right;\">              0.9 </td><td style=\"text-align: right;\">               0.89</td><td style=\"text-align: right;\">             0</td><td>No         </td><td>No             </td><td>No         </td><td>Yes            </td><td>No        </td><td>Yes                </td></tr>\n",
       "<tr><td style=\"text-align: right;\">1.11327e+06</td><td style=\"text-align: right;\">             0</td><td style=\"text-align: right;\">          8</td><td style=\"text-align: right;\">               0</td><td style=\"text-align: right;\">                 2</td><td style=\"text-align: right;\">                 3</td><td style=\"text-align: right;\">                 4</td><td style=\"text-align: right;\">              1</td><td style=\"text-align: right;\">              2</td><td style=\"text-align: right;\">              3</td><td style=\"text-align: right;\">              3</td><td style=\"text-align: right;\">         0</td><td>No               </td><td style=\"text-align: right;\">                0</td><td style=\"text-align: right;\">              0.96</td><td style=\"text-align: right;\">               0.97</td><td style=\"text-align: right;\">             0</td><td>No         </td><td>No             </td><td>No         </td><td>Yes            </td><td>No        </td><td>Yes                </td></tr>\n",
       "<tr><td style=\"text-align: right;\">1.11387e+06</td><td style=\"text-align: right;\">            20</td><td style=\"text-align: right;\">          2</td><td style=\"text-align: right;\">               0</td><td style=\"text-align: right;\">                45</td><td style=\"text-align: right;\">                99</td><td style=\"text-align: right;\">               153</td><td style=\"text-align: right;\">             16</td><td style=\"text-align: right;\">             42</td><td style=\"text-align: right;\">             80</td><td style=\"text-align: right;\">            111</td><td style=\"text-align: right;\">        10</td><td>No               </td><td style=\"text-align: right;\">                0</td><td style=\"text-align: right;\">              0.81</td><td style=\"text-align: right;\">               0.88</td><td style=\"text-align: right;\">             0</td><td>No         </td><td>No             </td><td>No         </td><td>Yes            </td><td>No        </td><td>Yes                </td></tr>\n",
       "<tr><td style=\"text-align: right;\">1.11422e+06</td><td style=\"text-align: right;\">             0</td><td style=\"text-align: right;\">          8</td><td style=\"text-align: right;\">               0</td><td style=\"text-align: right;\">                 9</td><td style=\"text-align: right;\">                14</td><td style=\"text-align: right;\">                21</td><td style=\"text-align: right;\">              5</td><td style=\"text-align: right;\">             17</td><td style=\"text-align: right;\">             36</td><td style=\"text-align: right;\">             43</td><td style=\"text-align: right;\">         0</td><td>No               </td><td style=\"text-align: right;\">                0</td><td style=\"text-align: right;\">              0.96</td><td style=\"text-align: right;\">               0.98</td><td style=\"text-align: right;\">             0</td><td>No         </td><td>No             </td><td>No         </td><td>Yes            </td><td>No        </td><td>Yes                </td></tr>\n",
       "<tr><td style=\"text-align: right;\">1.11482e+06</td><td style=\"text-align: right;\">             0</td><td style=\"text-align: right;\">         12</td><td style=\"text-align: right;\">               0</td><td style=\"text-align: right;\">                31</td><td style=\"text-align: right;\">                31</td><td style=\"text-align: right;\">                31</td><td style=\"text-align: right;\">              7</td><td style=\"text-align: right;\">             15</td><td style=\"text-align: right;\">             33</td><td style=\"text-align: right;\">             47</td><td style=\"text-align: right;\">         2</td><td>No               </td><td style=\"text-align: right;\">                3</td><td style=\"text-align: right;\">              0.98</td><td style=\"text-align: right;\">               0.98</td><td style=\"text-align: right;\">             0</td><td>No         </td><td>No             </td><td>No         </td><td>Yes            </td><td>No        </td><td>Yes                </td></tr>\n",
       "<tr><td style=\"text-align: right;\">1.11545e+06</td><td style=\"text-align: right;\">            55</td><td style=\"text-align: right;\">          8</td><td style=\"text-align: right;\">               0</td><td style=\"text-align: right;\">               216</td><td style=\"text-align: right;\">               360</td><td style=\"text-align: right;\">               492</td><td style=\"text-align: right;\">             30</td><td style=\"text-align: right;\">            108</td><td style=\"text-align: right;\">            275</td><td style=\"text-align: right;\">            340</td><td style=\"text-align: right;\">        51</td><td>No               </td><td style=\"text-align: right;\">                0</td><td style=\"text-align: right;\">              0   </td><td style=\"text-align: right;\">               0   </td><td style=\"text-align: right;\">             0</td><td>No         </td><td>No             </td><td>Yes        </td><td>Yes            </td><td>No        </td><td>Yes                </td></tr>\n",
       "<tr><td style=\"text-align: right;\">1.11562e+06</td><td style=\"text-align: right;\">           -34</td><td style=\"text-align: right;\">          8</td><td style=\"text-align: right;\">               0</td><td style=\"text-align: right;\">               120</td><td style=\"text-align: right;\">               240</td><td style=\"text-align: right;\">               240</td><td style=\"text-align: right;\">             83</td><td style=\"text-align: right;\">            122</td><td style=\"text-align: right;\">            144</td><td style=\"text-align: right;\">            165</td><td style=\"text-align: right;\">        33</td><td>No               </td><td style=\"text-align: right;\">                0</td><td style=\"text-align: right;\">              1   </td><td style=\"text-align: right;\">               0.97</td><td style=\"text-align: right;\">            34</td><td>No         </td><td>No             </td><td>No         </td><td>Yes            </td><td>No        </td><td>Yes                </td></tr>\n",
       "<tr><td style=\"text-align: right;\">1.11645e+06</td><td style=\"text-align: right;\">             4</td><td style=\"text-align: right;\">          9</td><td style=\"text-align: right;\">               0</td><td style=\"text-align: right;\">                43</td><td style=\"text-align: right;\">                67</td><td style=\"text-align: right;\">               115</td><td style=\"text-align: right;\">              5</td><td style=\"text-align: right;\">             22</td><td style=\"text-align: right;\">             40</td><td style=\"text-align: right;\">             58</td><td style=\"text-align: right;\">         4</td><td>No               </td><td style=\"text-align: right;\">                0</td><td style=\"text-align: right;\">              0.69</td><td style=\"text-align: right;\">               0.68</td><td style=\"text-align: right;\">             0</td><td>No         </td><td>No             </td><td>No         </td><td>Yes            </td><td>No        </td><td>Yes                </td></tr>\n",
       "<tr><td style=\"text-align: right;\">1.11683e+06</td><td style=\"text-align: right;\">             2</td><td style=\"text-align: right;\">          8</td><td style=\"text-align: right;\">               0</td><td style=\"text-align: right;\">                 4</td><td style=\"text-align: right;\">                 6</td><td style=\"text-align: right;\">                 9</td><td style=\"text-align: right;\">              1</td><td style=\"text-align: right;\">              5</td><td style=\"text-align: right;\">              6</td><td style=\"text-align: right;\">              9</td><td style=\"text-align: right;\">         2</td><td>No               </td><td style=\"text-align: right;\">                0</td><td style=\"text-align: right;\">              1   </td><td style=\"text-align: right;\">               0.95</td><td style=\"text-align: right;\">             0</td><td>No         </td><td>No             </td><td>No         </td><td>Yes            </td><td>No        </td><td>Yes                </td></tr>\n",
       "<tr><td style=\"text-align: right;\">1.11687e+06</td><td style=\"text-align: right;\">            -7</td><td style=\"text-align: right;\">          8</td><td style=\"text-align: right;\">               0</td><td style=\"text-align: right;\">                56</td><td style=\"text-align: right;\">                96</td><td style=\"text-align: right;\">               112</td><td style=\"text-align: right;\">             13</td><td style=\"text-align: right;\">             30</td><td style=\"text-align: right;\">             56</td><td style=\"text-align: right;\">             76</td><td style=\"text-align: right;\">         0</td><td>No               </td><td style=\"text-align: right;\">                0</td><td style=\"text-align: right;\">              0.97</td><td style=\"text-align: right;\">               0.92</td><td style=\"text-align: right;\">             7</td><td>No         </td><td>No             </td><td>No         </td><td>Yes            </td><td>No        </td><td>Yes                </td></tr>\n",
       "</tbody>\n",
       "</table>"
      ],
      "text/plain": [
       "<table>\n",
       "<thead>\n",
       "<tr><th style=\"text-align: right;\">        sku</th><th style=\"text-align: right;\">  national_inv</th><th style=\"text-align: right;\">  lead_time</th><th style=\"text-align: right;\">  in_transit_qty</th><th style=\"text-align: right;\">  forecast_3_month</th><th style=\"text-align: right;\">  forecast_6_month</th><th style=\"text-align: right;\">  forecast_9_month</th><th style=\"text-align: right;\">  sales_1_month</th><th style=\"text-align: right;\">  sales_3_month</th><th style=\"text-align: right;\">  sales_6_month</th><th style=\"text-align: right;\">  sales_9_month</th><th style=\"text-align: right;\">  min_bank</th><th>potential_issue  </th><th style=\"text-align: right;\">  pieces_past_due</th><th style=\"text-align: right;\">  perf_6_month_avg</th><th style=\"text-align: right;\">  perf_12_month_avg</th><th style=\"text-align: right;\">  local_bo_qty</th><th>deck_risk  </th><th>oe_constraint  </th><th>ppap_risk  </th><th>stop_auto_buy  </th><th>rev_stop  </th><th>went_on_backorder  </th></tr>\n",
       "</thead>\n",
       "<tbody>\n",
       "<tr><td style=\"text-align: right;\">1.11312e+06</td><td style=\"text-align: right;\">             0</td><td style=\"text-align: right;\">          8</td><td style=\"text-align: right;\">               1</td><td style=\"text-align: right;\">                 6</td><td style=\"text-align: right;\">                 6</td><td style=\"text-align: right;\">                 6</td><td style=\"text-align: right;\">              0</td><td style=\"text-align: right;\">              4</td><td style=\"text-align: right;\">              9</td><td style=\"text-align: right;\">             12</td><td style=\"text-align: right;\">         0</td><td>No               </td><td style=\"text-align: right;\">                1</td><td style=\"text-align: right;\">              0.9 </td><td style=\"text-align: right;\">               0.89</td><td style=\"text-align: right;\">             0</td><td>No         </td><td>No             </td><td>No         </td><td>Yes            </td><td>No        </td><td>Yes                </td></tr>\n",
       "<tr><td style=\"text-align: right;\">1.11327e+06</td><td style=\"text-align: right;\">             0</td><td style=\"text-align: right;\">          8</td><td style=\"text-align: right;\">               0</td><td style=\"text-align: right;\">                 2</td><td style=\"text-align: right;\">                 3</td><td style=\"text-align: right;\">                 4</td><td style=\"text-align: right;\">              1</td><td style=\"text-align: right;\">              2</td><td style=\"text-align: right;\">              3</td><td style=\"text-align: right;\">              3</td><td style=\"text-align: right;\">         0</td><td>No               </td><td style=\"text-align: right;\">                0</td><td style=\"text-align: right;\">              0.96</td><td style=\"text-align: right;\">               0.97</td><td style=\"text-align: right;\">             0</td><td>No         </td><td>No             </td><td>No         </td><td>Yes            </td><td>No        </td><td>Yes                </td></tr>\n",
       "<tr><td style=\"text-align: right;\">1.11387e+06</td><td style=\"text-align: right;\">            20</td><td style=\"text-align: right;\">          2</td><td style=\"text-align: right;\">               0</td><td style=\"text-align: right;\">                45</td><td style=\"text-align: right;\">                99</td><td style=\"text-align: right;\">               153</td><td style=\"text-align: right;\">             16</td><td style=\"text-align: right;\">             42</td><td style=\"text-align: right;\">             80</td><td style=\"text-align: right;\">            111</td><td style=\"text-align: right;\">        10</td><td>No               </td><td style=\"text-align: right;\">                0</td><td style=\"text-align: right;\">              0.81</td><td style=\"text-align: right;\">               0.88</td><td style=\"text-align: right;\">             0</td><td>No         </td><td>No             </td><td>No         </td><td>Yes            </td><td>No        </td><td>Yes                </td></tr>\n",
       "<tr><td style=\"text-align: right;\">1.11422e+06</td><td style=\"text-align: right;\">             0</td><td style=\"text-align: right;\">          8</td><td style=\"text-align: right;\">               0</td><td style=\"text-align: right;\">                 9</td><td style=\"text-align: right;\">                14</td><td style=\"text-align: right;\">                21</td><td style=\"text-align: right;\">              5</td><td style=\"text-align: right;\">             17</td><td style=\"text-align: right;\">             36</td><td style=\"text-align: right;\">             43</td><td style=\"text-align: right;\">         0</td><td>No               </td><td style=\"text-align: right;\">                0</td><td style=\"text-align: right;\">              0.96</td><td style=\"text-align: right;\">               0.98</td><td style=\"text-align: right;\">             0</td><td>No         </td><td>No             </td><td>No         </td><td>Yes            </td><td>No        </td><td>Yes                </td></tr>\n",
       "<tr><td style=\"text-align: right;\">1.11482e+06</td><td style=\"text-align: right;\">             0</td><td style=\"text-align: right;\">         12</td><td style=\"text-align: right;\">               0</td><td style=\"text-align: right;\">                31</td><td style=\"text-align: right;\">                31</td><td style=\"text-align: right;\">                31</td><td style=\"text-align: right;\">              7</td><td style=\"text-align: right;\">             15</td><td style=\"text-align: right;\">             33</td><td style=\"text-align: right;\">             47</td><td style=\"text-align: right;\">         2</td><td>No               </td><td style=\"text-align: right;\">                3</td><td style=\"text-align: right;\">              0.98</td><td style=\"text-align: right;\">               0.98</td><td style=\"text-align: right;\">             0</td><td>No         </td><td>No             </td><td>No         </td><td>Yes            </td><td>No        </td><td>Yes                </td></tr>\n",
       "<tr><td style=\"text-align: right;\">1.11545e+06</td><td style=\"text-align: right;\">            55</td><td style=\"text-align: right;\">          8</td><td style=\"text-align: right;\">               0</td><td style=\"text-align: right;\">               216</td><td style=\"text-align: right;\">               360</td><td style=\"text-align: right;\">               492</td><td style=\"text-align: right;\">             30</td><td style=\"text-align: right;\">            108</td><td style=\"text-align: right;\">            275</td><td style=\"text-align: right;\">            340</td><td style=\"text-align: right;\">        51</td><td>No               </td><td style=\"text-align: right;\">                0</td><td style=\"text-align: right;\">              0   </td><td style=\"text-align: right;\">               0   </td><td style=\"text-align: right;\">             0</td><td>No         </td><td>No             </td><td>Yes        </td><td>Yes            </td><td>No        </td><td>Yes                </td></tr>\n",
       "<tr><td style=\"text-align: right;\">1.11562e+06</td><td style=\"text-align: right;\">           -34</td><td style=\"text-align: right;\">          8</td><td style=\"text-align: right;\">               0</td><td style=\"text-align: right;\">               120</td><td style=\"text-align: right;\">               240</td><td style=\"text-align: right;\">               240</td><td style=\"text-align: right;\">             83</td><td style=\"text-align: right;\">            122</td><td style=\"text-align: right;\">            144</td><td style=\"text-align: right;\">            165</td><td style=\"text-align: right;\">        33</td><td>No               </td><td style=\"text-align: right;\">                0</td><td style=\"text-align: right;\">              1   </td><td style=\"text-align: right;\">               0.97</td><td style=\"text-align: right;\">            34</td><td>No         </td><td>No             </td><td>No         </td><td>Yes            </td><td>No        </td><td>Yes                </td></tr>\n",
       "<tr><td style=\"text-align: right;\">1.11645e+06</td><td style=\"text-align: right;\">             4</td><td style=\"text-align: right;\">          9</td><td style=\"text-align: right;\">               0</td><td style=\"text-align: right;\">                43</td><td style=\"text-align: right;\">                67</td><td style=\"text-align: right;\">               115</td><td style=\"text-align: right;\">              5</td><td style=\"text-align: right;\">             22</td><td style=\"text-align: right;\">             40</td><td style=\"text-align: right;\">             58</td><td style=\"text-align: right;\">         4</td><td>No               </td><td style=\"text-align: right;\">                0</td><td style=\"text-align: right;\">              0.69</td><td style=\"text-align: right;\">               0.68</td><td style=\"text-align: right;\">             0</td><td>No         </td><td>No             </td><td>No         </td><td>Yes            </td><td>No        </td><td>Yes                </td></tr>\n",
       "<tr><td style=\"text-align: right;\">1.11683e+06</td><td style=\"text-align: right;\">             2</td><td style=\"text-align: right;\">          8</td><td style=\"text-align: right;\">               0</td><td style=\"text-align: right;\">                 4</td><td style=\"text-align: right;\">                 6</td><td style=\"text-align: right;\">                 9</td><td style=\"text-align: right;\">              1</td><td style=\"text-align: right;\">              5</td><td style=\"text-align: right;\">              6</td><td style=\"text-align: right;\">              9</td><td style=\"text-align: right;\">         2</td><td>No               </td><td style=\"text-align: right;\">                0</td><td style=\"text-align: right;\">              1   </td><td style=\"text-align: right;\">               0.95</td><td style=\"text-align: right;\">             0</td><td>No         </td><td>No             </td><td>No         </td><td>Yes            </td><td>No        </td><td>Yes                </td></tr>\n",
       "<tr><td style=\"text-align: right;\">1.11687e+06</td><td style=\"text-align: right;\">            -7</td><td style=\"text-align: right;\">          8</td><td style=\"text-align: right;\">               0</td><td style=\"text-align: right;\">                56</td><td style=\"text-align: right;\">                96</td><td style=\"text-align: right;\">               112</td><td style=\"text-align: right;\">             13</td><td style=\"text-align: right;\">             30</td><td style=\"text-align: right;\">             56</td><td style=\"text-align: right;\">             76</td><td style=\"text-align: right;\">         0</td><td>No               </td><td style=\"text-align: right;\">                0</td><td style=\"text-align: right;\">              0.97</td><td style=\"text-align: right;\">               0.92</td><td style=\"text-align: right;\">             7</td><td>No         </td><td>No             </td><td>No         </td><td>Yes            </td><td>No        </td><td>Yes                </td></tr>\n",
       "</tbody>\n",
       "</table>"
      ]
     },
     "execution_count": 0,
     "metadata": {},
     "output_type": "execute_result"
    },
    {
     "name": "stdout",
     "output_type": "stream",
     "text": [
      "\n"
     ]
    }
   ],
   "source": [
    "df.describe()\n",
    "print(df.head())"
   ]
  },
  {
   "cell_type": "markdown",
   "metadata": {},
   "source": [
    "We will notice that the response column, `\"went_on_backorder\"`, is already encoded as \"enum\", so there's nothing we need to do here.  If it were encoded as a 0/1 \"int\", then we'd have to convert the column as follows:  `df[y] = df[y].asfactor()`\n",
    "\n",
    "\n",
    "Next, let's identify the response & predictor columns by saving them as `x` and `y`.  The `\"sku\"` column is a unique identifier so we'll want to remove that from the set of our predictors."
   ]
  },
  {
   "cell_type": "code",
   "execution_count": 13,
   "metadata": {},
   "outputs": [],
   "source": [
    "y = \"went_on_backorder\"\n",
    "x = df.columns\n",
    "x.remove(y)\n",
    "x.remove(\"sku\")"
   ]
  },
  {
   "cell_type": "markdown",
   "metadata": {},
   "source": [
    "## Run AutoML \n",
    "\n",
    "Run AutoML, stopping after 10 models.  The `max_models` argument specifies the number of individual (or \"base\") models, and does not include the two ensemble models that are trained at the end."
   ]
  },
  {
   "cell_type": "code",
   "execution_count": 14,
   "metadata": {},
   "outputs": [
    {
     "name": "stdout",
     "output_type": "stream",
     "text": [
      "AutoML progress: |"
     ]
    },
    {
     "name": "stdout",
     "output_type": "stream",
     "text": [
      "█"
     ]
    },
    {
     "name": "stdout",
     "output_type": "stream",
     "text": [
      "█"
     ]
    },
    {
     "name": "stdout",
     "output_type": "stream",
     "text": [
      "█"
     ]
    },
    {
     "name": "stdout",
     "output_type": "stream",
     "text": [
      "█"
     ]
    },
    {
     "name": "stdout",
     "output_type": "stream",
     "text": [
      "█"
     ]
    },
    {
     "name": "stdout",
     "output_type": "stream",
     "text": [
      "█"
     ]
    },
    {
     "name": "stdout",
     "output_type": "stream",
     "text": [
      "█"
     ]
    },
    {
     "name": "stdout",
     "output_type": "stream",
     "text": [
      "█"
     ]
    },
    {
     "name": "stdout",
     "output_type": "stream",
     "text": [
      "█"
     ]
    },
    {
     "name": "stdout",
     "output_type": "stream",
     "text": [
      "█"
     ]
    },
    {
     "name": "stdout",
     "output_type": "stream",
     "text": [
      "█"
     ]
    },
    {
     "name": "stdout",
     "output_type": "stream",
     "text": [
      "█"
     ]
    },
    {
     "name": "stdout",
     "output_type": "stream",
     "text": [
      "█"
     ]
    },
    {
     "name": "stdout",
     "output_type": "stream",
     "text": [
      "█"
     ]
    },
    {
     "name": "stdout",
     "output_type": "stream",
     "text": [
      "█"
     ]
    },
    {
     "name": "stdout",
     "output_type": "stream",
     "text": [
      "█"
     ]
    },
    {
     "name": "stdout",
     "output_type": "stream",
     "text": [
      "█"
     ]
    },
    {
     "name": "stdout",
     "output_type": "stream",
     "text": [
      "█"
     ]
    },
    {
     "name": "stdout",
     "output_type": "stream",
     "text": [
      "█"
     ]
    },
    {
     "name": "stdout",
     "output_type": "stream",
     "text": [
      "█"
     ]
    },
    {
     "name": "stdout",
     "output_type": "stream",
     "text": [
      "█"
     ]
    },
    {
     "name": "stdout",
     "output_type": "stream",
     "text": [
      "█"
     ]
    },
    {
     "name": "stdout",
     "output_type": "stream",
     "text": [
      "█"
     ]
    },
    {
     "name": "stdout",
     "output_type": "stream",
     "text": [
      "█"
     ]
    },
    {
     "name": "stdout",
     "output_type": "stream",
     "text": [
      "█"
     ]
    },
    {
     "name": "stdout",
     "output_type": "stream",
     "text": [
      "█"
     ]
    },
    {
     "name": "stdout",
     "output_type": "stream",
     "text": [
      "█"
     ]
    },
    {
     "name": "stdout",
     "output_type": "stream",
     "text": [
      "█"
     ]
    },
    {
     "name": "stdout",
     "output_type": "stream",
     "text": [
      "█"
     ]
    },
    {
     "name": "stdout",
     "output_type": "stream",
     "text": [
      "█"
     ]
    },
    {
     "name": "stdout",
     "output_type": "stream",
     "text": [
      "█"
     ]
    },
    {
     "name": "stdout",
     "output_type": "stream",
     "text": [
      "█"
     ]
    },
    {
     "name": "stdout",
     "output_type": "stream",
     "text": [
      "█"
     ]
    },
    {
     "name": "stdout",
     "output_type": "stream",
     "text": [
      "█"
     ]
    },
    {
     "name": "stdout",
     "output_type": "stream",
     "text": [
      "█"
     ]
    },
    {
     "name": "stdout",
     "output_type": "stream",
     "text": [
      "█"
     ]
    },
    {
     "name": "stdout",
     "output_type": "stream",
     "text": [
      "█"
     ]
    },
    {
     "name": "stdout",
     "output_type": "stream",
     "text": [
      "█"
     ]
    },
    {
     "name": "stdout",
     "output_type": "stream",
     "text": [
      "█"
     ]
    },
    {
     "name": "stdout",
     "output_type": "stream",
     "text": [
      "█"
     ]
    },
    {
     "name": "stdout",
     "output_type": "stream",
     "text": [
      "█"
     ]
    },
    {
     "name": "stdout",
     "output_type": "stream",
     "text": [
      "██"
     ]
    },
    {
     "name": "stdout",
     "output_type": "stream",
     "text": [
      "█"
     ]
    },
    {
     "name": "stdout",
     "output_type": "stream",
     "text": [
      "█"
     ]
    },
    {
     "name": "stdout",
     "output_type": "stream",
     "text": [
      "█"
     ]
    },
    {
     "name": "stdout",
     "output_type": "stream",
     "text": [
      "█"
     ]
    },
    {
     "name": "stdout",
     "output_type": "stream",
     "text": [
      "██"
     ]
    },
    {
     "name": "stdout",
     "output_type": "stream",
     "text": [
      "█"
     ]
    },
    {
     "name": "stdout",
     "output_type": "stream",
     "text": [
      "█"
     ]
    },
    {
     "name": "stdout",
     "output_type": "stream",
     "text": [
      "█"
     ]
    },
    {
     "name": "stdout",
     "output_type": "stream",
     "text": [
      "█"
     ]
    },
    {
     "name": "stdout",
     "output_type": "stream",
     "text": [
      "█"
     ]
    },
    {
     "name": "stdout",
     "output_type": "stream",
     "text": [
      "█"
     ]
    },
    {
     "name": "stdout",
     "output_type": "stream",
     "text": [
      "█| 100%"
     ]
    },
    {
     "name": "stdout",
     "output_type": "stream",
     "text": [
      "\n"
     ]
    }
   ],
   "source": [
    "aml = H2OAutoML(max_models = 10, seed = 1)\n",
    "aml.train(x = x, y = y, training_frame = df)"
   ]
  },
  {
   "cell_type": "markdown",
   "metadata": {},
   "source": [
    "*Note: If you see the following error, it means that you need to install the pandas module.*\n",
    "```\n",
    "H2OTypeError: Argument `python_obj` should be a None | list | tuple | dict | numpy.ndarray | pandas.DataFrame | scipy.sparse.issparse, got H2OTwoDimTable \n",
    "``` "
   ]
  },
  {
   "cell_type": "markdown",
   "metadata": {},
   "source": [
    "## Leaderboard\n",
    "\n",
    "Next, we will view the AutoML Leaderboard.  Since we did not specify a `leaderboard_frame` in the `H2OAutoML.train()` method for scoring and ranking the models, the AutoML leaderboard uses cross-validation metrics to rank the models.  \n",
    "\n",
    "A default performance metric for each machine learning task (binary classification, multiclass classification, regression) is specified internally and the leaderboard will be sorted by that metric.  In the case of binary classification, the default ranking metric is Area Under the ROC Curve (AUC).  In the future, the user will be able to specify any of the H2O metrics so that different metrics can be used to generate rankings on the leaderboard.\n",
    "\n",
    "The leader model is stored at `aml.leader` and the leaderboard is stored at `aml.leaderboard`."
   ]
  },
  {
   "cell_type": "code",
   "execution_count": 15,
   "metadata": {},
   "outputs": [],
   "source": [
    "lb = aml.leaderboard"
   ]
  },
  {
   "cell_type": "markdown",
   "metadata": {},
   "source": [
    "Now we will view a snapshot of the top models.  Here we should see the two Stacked Ensembles at or near the top of the leaderboard.  Stacked Ensembles can almost always outperform a single model."
   ]
  },
  {
   "cell_type": "code",
   "execution_count": 16,
   "metadata": {},
   "outputs": [
    {
     "data": {
      "text/html": [
       "<table>\n",
       "<thead>\n",
       "<tr><th>model_id                                           </th><th style=\"text-align: right;\">     auc</th><th style=\"text-align: right;\">  logloss</th><th style=\"text-align: right;\">  mean_per_class_error</th><th style=\"text-align: right;\">    rmse</th><th style=\"text-align: right;\">      mse</th></tr>\n",
       "</thead>\n",
       "<tbody>\n",
       "<tr><td>StackedEnsemble_AllModels_AutoML_20190327_103130   </td><td style=\"text-align: right;\">0.948886</td><td style=\"text-align: right;\"> 0.181971</td><td style=\"text-align: right;\">              0.150047</td><td style=\"text-align: right;\">0.228478</td><td style=\"text-align: right;\">0.0522021</td></tr>\n",
       "<tr><td>GBM_4_AutoML_20190327_103130                       </td><td style=\"text-align: right;\">0.948131</td><td style=\"text-align: right;\"> 0.173882</td><td style=\"text-align: right;\">              0.148656</td><td style=\"text-align: right;\">0.226523</td><td style=\"text-align: right;\">0.0513126</td></tr>\n",
       "<tr><td>StackedEnsemble_BestOfFamily_AutoML_20190327_103130</td><td style=\"text-align: right;\">0.947769</td><td style=\"text-align: right;\"> 0.182821</td><td style=\"text-align: right;\">              0.141856</td><td style=\"text-align: right;\">0.228548</td><td style=\"text-align: right;\">0.0522342</td></tr>\n",
       "<tr><td>GBM_3_AutoML_20190327_103130                       </td><td style=\"text-align: right;\">0.946387</td><td style=\"text-align: right;\"> 0.176609</td><td style=\"text-align: right;\">              0.142449</td><td style=\"text-align: right;\">0.228175</td><td style=\"text-align: right;\">0.0520639</td></tr>\n",
       "<tr><td>GBM_5_AutoML_20190327_103130                       </td><td style=\"text-align: right;\">0.946198</td><td style=\"text-align: right;\"> 0.177788</td><td style=\"text-align: right;\">              0.14138 </td><td style=\"text-align: right;\">0.230023</td><td style=\"text-align: right;\">0.0529107</td></tr>\n",
       "<tr><td>GBM_2_AutoML_20190327_103130                       </td><td style=\"text-align: right;\">0.944955</td><td style=\"text-align: right;\"> 0.179339</td><td style=\"text-align: right;\">              0.155776</td><td style=\"text-align: right;\">0.229637</td><td style=\"text-align: right;\">0.0527332</td></tr>\n",
       "<tr><td>GBM_1_AutoML_20190327_103130                       </td><td style=\"text-align: right;\">0.94195 </td><td style=\"text-align: right;\"> 0.18388 </td><td style=\"text-align: right;\">              0.164705</td><td style=\"text-align: right;\">0.232089</td><td style=\"text-align: right;\">0.0538654</td></tr>\n",
       "<tr><td>GBM_grid_1_AutoML_20190327_103130_model_1          </td><td style=\"text-align: right;\">0.936875</td><td style=\"text-align: right;\"> 0.327026</td><td style=\"text-align: right;\">              0.164075</td><td style=\"text-align: right;\">0.309477</td><td style=\"text-align: right;\">0.0957759</td></tr>\n",
       "<tr><td>XRT_1_AutoML_20190327_103130                       </td><td style=\"text-align: right;\">0.935325</td><td style=\"text-align: right;\"> 0.203641</td><td style=\"text-align: right;\">              0.169474</td><td style=\"text-align: right;\">0.242563</td><td style=\"text-align: right;\">0.0588367</td></tr>\n",
       "<tr><td>DRF_1_AutoML_20190327_103130                       </td><td style=\"text-align: right;\">0.924493</td><td style=\"text-align: right;\"> 0.229566</td><td style=\"text-align: right;\">              0.185868</td><td style=\"text-align: right;\">0.258956</td><td style=\"text-align: right;\">0.0670583</td></tr>\n",
       "</tbody>\n",
       "</table>"
      ],
      "text/plain": [
       "<table>\n",
       "<thead>\n",
       "<tr><th>model_id                                           </th><th style=\"text-align: right;\">     auc</th><th style=\"text-align: right;\">  logloss</th><th style=\"text-align: right;\">  mean_per_class_error</th><th style=\"text-align: right;\">    rmse</th><th style=\"text-align: right;\">      mse</th></tr>\n",
       "</thead>\n",
       "<tbody>\n",
       "<tr><td>StackedEnsemble_AllModels_AutoML_20190327_103130   </td><td style=\"text-align: right;\">0.948886</td><td style=\"text-align: right;\"> 0.181971</td><td style=\"text-align: right;\">              0.150047</td><td style=\"text-align: right;\">0.228478</td><td style=\"text-align: right;\">0.0522021</td></tr>\n",
       "<tr><td>GBM_4_AutoML_20190327_103130                       </td><td style=\"text-align: right;\">0.948131</td><td style=\"text-align: right;\"> 0.173882</td><td style=\"text-align: right;\">              0.148656</td><td style=\"text-align: right;\">0.226523</td><td style=\"text-align: right;\">0.0513126</td></tr>\n",
       "<tr><td>StackedEnsemble_BestOfFamily_AutoML_20190327_103130</td><td style=\"text-align: right;\">0.947769</td><td style=\"text-align: right;\"> 0.182821</td><td style=\"text-align: right;\">              0.141856</td><td style=\"text-align: right;\">0.228548</td><td style=\"text-align: right;\">0.0522342</td></tr>\n",
       "<tr><td>GBM_3_AutoML_20190327_103130                       </td><td style=\"text-align: right;\">0.946387</td><td style=\"text-align: right;\"> 0.176609</td><td style=\"text-align: right;\">              0.142449</td><td style=\"text-align: right;\">0.228175</td><td style=\"text-align: right;\">0.0520639</td></tr>\n",
       "<tr><td>GBM_5_AutoML_20190327_103130                       </td><td style=\"text-align: right;\">0.946198</td><td style=\"text-align: right;\"> 0.177788</td><td style=\"text-align: right;\">              0.14138 </td><td style=\"text-align: right;\">0.230023</td><td style=\"text-align: right;\">0.0529107</td></tr>\n",
       "<tr><td>GBM_2_AutoML_20190327_103130                       </td><td style=\"text-align: right;\">0.944955</td><td style=\"text-align: right;\"> 0.179339</td><td style=\"text-align: right;\">              0.155776</td><td style=\"text-align: right;\">0.229637</td><td style=\"text-align: right;\">0.0527332</td></tr>\n",
       "<tr><td>GBM_1_AutoML_20190327_103130                       </td><td style=\"text-align: right;\">0.94195 </td><td style=\"text-align: right;\"> 0.18388 </td><td style=\"text-align: right;\">              0.164705</td><td style=\"text-align: right;\">0.232089</td><td style=\"text-align: right;\">0.0538654</td></tr>\n",
       "<tr><td>GBM_grid_1_AutoML_20190327_103130_model_1          </td><td style=\"text-align: right;\">0.936875</td><td style=\"text-align: right;\"> 0.327026</td><td style=\"text-align: right;\">              0.164075</td><td style=\"text-align: right;\">0.309477</td><td style=\"text-align: right;\">0.0957759</td></tr>\n",
       "<tr><td>XRT_1_AutoML_20190327_103130                       </td><td style=\"text-align: right;\">0.935325</td><td style=\"text-align: right;\"> 0.203641</td><td style=\"text-align: right;\">              0.169474</td><td style=\"text-align: right;\">0.242563</td><td style=\"text-align: right;\">0.0588367</td></tr>\n",
       "<tr><td>DRF_1_AutoML_20190327_103130                       </td><td style=\"text-align: right;\">0.924493</td><td style=\"text-align: right;\"> 0.229566</td><td style=\"text-align: right;\">              0.185868</td><td style=\"text-align: right;\">0.258956</td><td style=\"text-align: right;\">0.0670583</td></tr>\n",
       "</tbody>\n",
       "</table>"
      ]
     },
     "execution_count": 0,
     "metadata": {},
     "output_type": "execute_result"
    },
    {
     "data": {
      "text/plain": [
       ""
      ]
     },
     "execution_count": 16,
     "metadata": {},
     "output_type": "execute_result"
    }
   ],
   "source": [
    "lb.head()"
   ]
  },
  {
   "cell_type": "markdown",
   "metadata": {},
   "source": [
    "To view the entire leaderboard, specify the `rows` argument of the `head()` method as the total number of rows:"
   ]
  },
  {
   "cell_type": "code",
   "execution_count": 17,
   "metadata": {},
   "outputs": [
    {
     "data": {
      "text/html": [
       "<table>\n",
       "<thead>\n",
       "<tr><th>model_id                                           </th><th style=\"text-align: right;\">     auc</th><th style=\"text-align: right;\">  logloss</th><th style=\"text-align: right;\">  mean_per_class_error</th><th style=\"text-align: right;\">    rmse</th><th style=\"text-align: right;\">      mse</th></tr>\n",
       "</thead>\n",
       "<tbody>\n",
       "<tr><td>StackedEnsemble_AllModels_AutoML_20190327_103130   </td><td style=\"text-align: right;\">0.948886</td><td style=\"text-align: right;\"> 0.181971</td><td style=\"text-align: right;\">              0.150047</td><td style=\"text-align: right;\">0.228478</td><td style=\"text-align: right;\">0.0522021</td></tr>\n",
       "<tr><td>GBM_4_AutoML_20190327_103130                       </td><td style=\"text-align: right;\">0.948131</td><td style=\"text-align: right;\"> 0.173882</td><td style=\"text-align: right;\">              0.148656</td><td style=\"text-align: right;\">0.226523</td><td style=\"text-align: right;\">0.0513126</td></tr>\n",
       "<tr><td>StackedEnsemble_BestOfFamily_AutoML_20190327_103130</td><td style=\"text-align: right;\">0.947769</td><td style=\"text-align: right;\"> 0.182821</td><td style=\"text-align: right;\">              0.141856</td><td style=\"text-align: right;\">0.228548</td><td style=\"text-align: right;\">0.0522342</td></tr>\n",
       "<tr><td>GBM_3_AutoML_20190327_103130                       </td><td style=\"text-align: right;\">0.946387</td><td style=\"text-align: right;\"> 0.176609</td><td style=\"text-align: right;\">              0.142449</td><td style=\"text-align: right;\">0.228175</td><td style=\"text-align: right;\">0.0520639</td></tr>\n",
       "<tr><td>GBM_5_AutoML_20190327_103130                       </td><td style=\"text-align: right;\">0.946198</td><td style=\"text-align: right;\"> 0.177788</td><td style=\"text-align: right;\">              0.14138 </td><td style=\"text-align: right;\">0.230023</td><td style=\"text-align: right;\">0.0529107</td></tr>\n",
       "<tr><td>GBM_2_AutoML_20190327_103130                       </td><td style=\"text-align: right;\">0.944955</td><td style=\"text-align: right;\"> 0.179339</td><td style=\"text-align: right;\">              0.155776</td><td style=\"text-align: right;\">0.229637</td><td style=\"text-align: right;\">0.0527332</td></tr>\n",
       "<tr><td>GBM_1_AutoML_20190327_103130                       </td><td style=\"text-align: right;\">0.94195 </td><td style=\"text-align: right;\"> 0.18388 </td><td style=\"text-align: right;\">              0.164705</td><td style=\"text-align: right;\">0.232089</td><td style=\"text-align: right;\">0.0538654</td></tr>\n",
       "<tr><td>GBM_grid_1_AutoML_20190327_103130_model_1          </td><td style=\"text-align: right;\">0.936875</td><td style=\"text-align: right;\"> 0.327026</td><td style=\"text-align: right;\">              0.164075</td><td style=\"text-align: right;\">0.309477</td><td style=\"text-align: right;\">0.0957759</td></tr>\n",
       "<tr><td>XRT_1_AutoML_20190327_103130                       </td><td style=\"text-align: right;\">0.935325</td><td style=\"text-align: right;\"> 0.203641</td><td style=\"text-align: right;\">              0.169474</td><td style=\"text-align: right;\">0.242563</td><td style=\"text-align: right;\">0.0588367</td></tr>\n",
       "<tr><td>DRF_1_AutoML_20190327_103130                       </td><td style=\"text-align: right;\">0.924493</td><td style=\"text-align: right;\"> 0.229566</td><td style=\"text-align: right;\">              0.185868</td><td style=\"text-align: right;\">0.258956</td><td style=\"text-align: right;\">0.0670583</td></tr>\n",
       "<tr><td>GLM_grid_1_AutoML_20190327_103130_model_1          </td><td style=\"text-align: right;\">0.747728</td><td style=\"text-align: right;\"> 0.337291</td><td style=\"text-align: right;\">              0.291388</td><td style=\"text-align: right;\">0.313813</td><td style=\"text-align: right;\">0.0984787</td></tr>\n",
       "<tr><td>DeepLearning_1_AutoML_20190327_103130              </td><td style=\"text-align: right;\">0.548614</td><td style=\"text-align: right;\"> 0.838304</td><td style=\"text-align: right;\">              0.440962</td><td style=\"text-align: right;\">0.444786</td><td style=\"text-align: right;\">0.197835 </td></tr>\n",
       "</tbody>\n",
       "</table>"
      ],
      "text/plain": [
       "<table>\n",
       "<thead>\n",
       "<tr><th>model_id                                           </th><th style=\"text-align: right;\">     auc</th><th style=\"text-align: right;\">  logloss</th><th style=\"text-align: right;\">  mean_per_class_error</th><th style=\"text-align: right;\">    rmse</th><th style=\"text-align: right;\">      mse</th></tr>\n",
       "</thead>\n",
       "<tbody>\n",
       "<tr><td>StackedEnsemble_AllModels_AutoML_20190327_103130   </td><td style=\"text-align: right;\">0.948886</td><td style=\"text-align: right;\"> 0.181971</td><td style=\"text-align: right;\">              0.150047</td><td style=\"text-align: right;\">0.228478</td><td style=\"text-align: right;\">0.0522021</td></tr>\n",
       "<tr><td>GBM_4_AutoML_20190327_103130                       </td><td style=\"text-align: right;\">0.948131</td><td style=\"text-align: right;\"> 0.173882</td><td style=\"text-align: right;\">              0.148656</td><td style=\"text-align: right;\">0.226523</td><td style=\"text-align: right;\">0.0513126</td></tr>\n",
       "<tr><td>StackedEnsemble_BestOfFamily_AutoML_20190327_103130</td><td style=\"text-align: right;\">0.947769</td><td style=\"text-align: right;\"> 0.182821</td><td style=\"text-align: right;\">              0.141856</td><td style=\"text-align: right;\">0.228548</td><td style=\"text-align: right;\">0.0522342</td></tr>\n",
       "<tr><td>GBM_3_AutoML_20190327_103130                       </td><td style=\"text-align: right;\">0.946387</td><td style=\"text-align: right;\"> 0.176609</td><td style=\"text-align: right;\">              0.142449</td><td style=\"text-align: right;\">0.228175</td><td style=\"text-align: right;\">0.0520639</td></tr>\n",
       "<tr><td>GBM_5_AutoML_20190327_103130                       </td><td style=\"text-align: right;\">0.946198</td><td style=\"text-align: right;\"> 0.177788</td><td style=\"text-align: right;\">              0.14138 </td><td style=\"text-align: right;\">0.230023</td><td style=\"text-align: right;\">0.0529107</td></tr>\n",
       "<tr><td>GBM_2_AutoML_20190327_103130                       </td><td style=\"text-align: right;\">0.944955</td><td style=\"text-align: right;\"> 0.179339</td><td style=\"text-align: right;\">              0.155776</td><td style=\"text-align: right;\">0.229637</td><td style=\"text-align: right;\">0.0527332</td></tr>\n",
       "<tr><td>GBM_1_AutoML_20190327_103130                       </td><td style=\"text-align: right;\">0.94195 </td><td style=\"text-align: right;\"> 0.18388 </td><td style=\"text-align: right;\">              0.164705</td><td style=\"text-align: right;\">0.232089</td><td style=\"text-align: right;\">0.0538654</td></tr>\n",
       "<tr><td>GBM_grid_1_AutoML_20190327_103130_model_1          </td><td style=\"text-align: right;\">0.936875</td><td style=\"text-align: right;\"> 0.327026</td><td style=\"text-align: right;\">              0.164075</td><td style=\"text-align: right;\">0.309477</td><td style=\"text-align: right;\">0.0957759</td></tr>\n",
       "<tr><td>XRT_1_AutoML_20190327_103130                       </td><td style=\"text-align: right;\">0.935325</td><td style=\"text-align: right;\"> 0.203641</td><td style=\"text-align: right;\">              0.169474</td><td style=\"text-align: right;\">0.242563</td><td style=\"text-align: right;\">0.0588367</td></tr>\n",
       "<tr><td>DRF_1_AutoML_20190327_103130                       </td><td style=\"text-align: right;\">0.924493</td><td style=\"text-align: right;\"> 0.229566</td><td style=\"text-align: right;\">              0.185868</td><td style=\"text-align: right;\">0.258956</td><td style=\"text-align: right;\">0.0670583</td></tr>\n",
       "<tr><td>GLM_grid_1_AutoML_20190327_103130_model_1          </td><td style=\"text-align: right;\">0.747728</td><td style=\"text-align: right;\"> 0.337291</td><td style=\"text-align: right;\">              0.291388</td><td style=\"text-align: right;\">0.313813</td><td style=\"text-align: right;\">0.0984787</td></tr>\n",
       "<tr><td>DeepLearning_1_AutoML_20190327_103130              </td><td style=\"text-align: right;\">0.548614</td><td style=\"text-align: right;\"> 0.838304</td><td style=\"text-align: right;\">              0.440962</td><td style=\"text-align: right;\">0.444786</td><td style=\"text-align: right;\">0.197835 </td></tr>\n",
       "</tbody>\n",
       "</table>"
      ]
     },
     "execution_count": 0,
     "metadata": {},
     "output_type": "execute_result"
    },
    {
     "data": {
      "text/plain": [
       ""
      ]
     },
     "execution_count": 17,
     "metadata": {},
     "output_type": "execute_result"
    }
   ],
   "source": [
    "lb.head(rows=lb.nrows)"
   ]
  },
  {
   "cell_type": "markdown",
   "metadata": {},
   "source": [
    "## Ensemble Exploration\n",
    "\n",
    "To understand how the ensemble works, let's take a peek inside the Stacked Ensemble \"All Models\" model.  The \"All Models\" ensemble is an ensemble of all of the individual models in the AutoML run.  This is often the top performing model on the leaderboard."
   ]
  },
  {
   "cell_type": "code",
   "execution_count": 18,
   "metadata": {},
   "outputs": [],
   "source": [
    "# Get model ids for all models in the AutoML Leaderboard\n",
    "model_ids = list(aml.leaderboard['model_id'].as_data_frame().iloc[:,0])\n",
    "# Get the \"All Models\" Stacked Ensemble model\n",
    "se = h2o.get_model([mid for mid in model_ids if \"StackedEnsemble_AllModels\" in mid][0])\n",
    "# Get the Stacked Ensemble metalearner model\n",
    "metalearner = h2o.get_model(se.metalearner()['name'])"
   ]
  },
  {
   "cell_type": "markdown",
   "metadata": {},
   "source": [
    "Examine the variable importance of the metalearner (combiner) algorithm in the ensemble.  This shows us how much each base learner is contributing to the ensemble. The AutoML Stacked Ensembles use the default metalearner algorithm (GLM with non-negative weights), so the variable importance of the metalearner is actually the standardized coefficient magnitudes of the GLM. "
   ]
  },
  {
   "cell_type": "code",
   "execution_count": 19,
   "metadata": {},
   "outputs": [],
   "source": [
    "metalearner.coef_norm()"
   ]
  },
  {
   "cell_type": "markdown",
   "metadata": {},
   "source": [
    "We can also plot the base learner contributions to the ensemble."
   ]
  },
  {
   "cell_type": "code",
   "execution_count": 21,
   "metadata": {},
   "outputs": [
    {
     "name": "stderr",
     "output_type": "stream",
     "text": [
      "D:\\Users\\fjc-pc\\Anaconda3\\lib\\site-packages\\matplotlib\\cbook\\deprecation.py:107: MatplotlibDeprecationWarning: Passing one of 'on', 'true', 'off', 'false' as a boolean is deprecated; use an actual boolean (True/False) instead.\n  warnings.warn(message, mplDeprecation, stacklevel=1)\n"
     ]
    },
    {
     "data": {
      "image/png": "[encoded data removed]",
      "text/plain": [
       "<Figure size 1008x720 with 1 Axes>"
      ]
     },
     "metadata": {},
     "output_type": "display_data"
    }
   ],
   "source": [
    "%matplotlib inline\n",
    "metalearner.std_coef_plot()"
   ]
  },
  {
   "cell_type": "markdown",
   "metadata": {},
   "source": [
    "## Save Leader Model\n",
    "\n",
    "There are two ways to save the leader model -- binary format and MOJO format.  If you're taking your leader model to production, then we'd suggest the MOJO format since it's optimized for production use."
   ]
  },
  {
   "cell_type": "code",
   "execution_count": 22,
   "metadata": {},
   "outputs": [
    {
     "data": {
      "text/plain": [
       "'E:\\\\python\\\\Pro1\\\\untitled\\\\product_backorders_model_bin\\\\StackedEnsemble_AllModels_AutoML_20190327_103130'"
      ]
     },
     "execution_count": 22,
     "metadata": {},
     "output_type": "execute_result"
    }
   ],
   "source": [
    "h2o.save_model(aml.leader, path = \"./product_backorders_model_bin\")"
   ]
  },
  {
   "cell_type": "code",
   "execution_count": 23,
   "metadata": {},
   "outputs": [
    {
     "data": {
      "text/plain": [
       "'E:\\\\python\\\\Pro1\\\\untitled\\\\StackedEnsemble_AllModels_AutoML_20190327_103130.zip'"
      ]
     },
     "execution_count": 23,
     "metadata": {},
     "output_type": "execute_result"
    }
   ],
   "source": [
    "aml.leader.download_mojo(path = \"./\")"
   ]
  },
  {
   "cell_type": "code",
   "execution_count": null,
   "metadata": {},
   "outputs": [],
   "source": []
  }
 ],
 "metadata": {
  "kernelspec": {
   "display_name": "Python 2",
   "language": "python",
   "name": "python2"
  },
  "language_info": {
   "codemirror_mode": {
    "name": "ipython",
    "version": 2
   },
   "file_extension": ".py",
   "mimetype": "text/x-python",
   "name": "python",
   "nbconvert_exporter": "python",
   "pygments_lexer": "ipython2",
   "version": "2.7.15"
  }
 },
 "nbformat": 4,
 "nbformat_minor": 2
}
