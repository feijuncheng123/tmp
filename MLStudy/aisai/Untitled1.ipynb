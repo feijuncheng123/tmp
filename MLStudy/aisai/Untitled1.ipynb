{
 "cells": [
  {
   "cell_type": "code",
   "execution_count": 32,
   "metadata": {},
   "outputs": [],
   "source": [
    "modelCols=[\"credit_level\",\"gender\",\"inet_pd_inst_cnt\",\"star_level\",\n",
    "    \"dt_m_1000\",\"dt_m_1003\",\"dt_m_1004\",\"dt_m_1005\",\"dt_m_1006\",\"dt_m_1009\",\"dt_m_1011\",\"dt_m_1012\",\"dt_m_1015\",\"dt_m_1017\",\n",
    "    \"dt_m_1027\",\"dt_m_1028\",\"dt_m_1041\",\"dt_m_1044\",\"dt_m_1051\",\"dt_m_1053\",\"dt_m_1067\",\n",
    "    \"dt_m_1069\",\"dt_m_1073\",\"dt_m_1074\",\"dt_m_1075\",\"dt_m_1085\",\"dt_m_1086\",\"dt_m_1087\",\"dt_m_1096\",\"dt_m_1099\",\"dt_m_1102\",\n",
    "    \"dt_m_1105\",\"dt_m_1108\",\"dt_m_1111\",\"dt_m_1594\",\"dt_m_1601\",\"dt_m_1617\",\"dt_m_1618\",\"dt_m_1620\",\"dt_m_1630\",\"dt_m_1633\",\n",
    "    \"last_year_capture_user_flag\",\"app1_visits\",\"app2_visits\",\"app3_visits\",\"app4_visits\",\"app5_visits\",\"app6_visits\",\n",
    "    \"app7_visits\",\"app8_visits\",\"access_net_dur\",\"tmlRegister_net_dur\",\"prdOpen_dur\",\"tmlRegister_dur\",\"prdOpen_net_dur\",\n",
    "    \"brand\",\"product\",\"cust_point_level\",\"age\",\"market_price_level\",\"app_cnt\",\n",
    "    \"dt_m_1027_type\",\"dt_m_1075_type\",\"dt_m_1086_type\",\"dt_m_1087_type\",\n",
    "    \"dt_m_1102_type\",\"dt_m_1108_type\",\"dt_m_1594_type\",\"dt_m_1617_type\",\n",
    "    \"dt_m_1630_type\",\"dt_m_1633_type\",\"app1_visits_type\",\"app2_visits_type\",\"app3_visits_type\",\n",
    "    \"app4_visits_type\",\"app5_visits_type\",\"app6_visits_type\",\"app7_visits_type\",\n",
    "    \"dt_m_1087_pref\",\"in_10s_per\",\"in_10_30s_per\",\"in_30_60s_per\",\"out_60s_per\",\"dt_m_1035_pref\",\"dt_m_1043\",\"dt_m_1052\",\n",
    "    \"zjdur_per_times\",\"bjdur_per_times\",\"zjdur_perc\",\"bjdur_perc\",\"zjdur_per_man\",\"zjman_perc\",\"zjman_per_recent3\",\"dt_m_1085_bj\",\n",
    "    \"dt_m_1086_bj\",\"dt_m_1087_bj\",\"dt_m_1099_perc\",\"dt_m_1105_perc\",\"zjctdur_per_times\",\"bjctdur_per_times\",\"market_price_per_mon\",\n",
    "    \"ctdur_per_times\",\"zjctdur_perc\",\"total_message\",\"message_send_perc\",\"zjtimes_per_day\",\"bjtimes_per_day\",\"zjdur_mean_vs_max\",\n",
    "    \"bjdur_mean_vs_max\",\"current_month_man_perc\",\"zj_current_month_man_perc\",\"dt_m_1034\",\"dt_m_1035\",'liuliang_per_dur',\n",
    "    'app_pref','netdur_per_appvisit','netflow_per_appvisit','flowmean_per_prod','zjdurmean_per_prod','zjdur_per_prodcnt',\n",
    "    'bjdur_per_prodcnt','flow_per_prodcnt','message_per_prodcnt','rest_zj_perc','zjman_per_day','zjtime_per_man','bjtimes_per_man','bjdur_per_man',\n",
    "    'zjdur_per_man_perc','zjtimes_per_man_perc','bj_man','bj_man_perc','zj_bj_man','app_visits_std']"
   ]
  },
  {
   "cell_type": "code",
   "execution_count": 33,
   "metadata": {},
   "outputs": [
    {
     "data": {
      "text/plain": [
       "134"
      ]
     },
     "execution_count": 33,
     "metadata": {},
     "output_type": "execute_result"
    }
   ],
   "source": [
    "len(modelCols)"
   ]
  },
  {
   "cell_type": "code",
   "execution_count": 31,
   "metadata": {},
   "outputs": [],
   "source": [
    "import xgboost as xgb\n",
    "import pandas as pd\n",
    "import numpy as np\n",
    "from sklearn.model_selection import train_test_split\n",
    "from sklearn.preprocessing import LabelEncoder\n",
    "from sklearn.model_selection import cross_val_score\n",
    "from sklearn.model_selection import StratifiedKFold\n",
    "from sklearn.metrics.classification import f1_score\n",
    "from xgboost import plot_importance\n",
    "from matplotlib import pyplot"
   ]
  },
  {
   "cell_type": "code",
   "execution_count": 34,
   "metadata": {},
   "outputs": [],
   "source": [
    "data=pd.read_csv(\"E:\\zte\\data\\data_v5.csv\")\n",
    "data['bjtimes_per_man']=data['calltime_per_man']-data['zjtime_per_man']\n",
    "data['bjdur_per_man']=data['calldur_per_man']-data['zjdur_per_man']\n",
    "data['zjdur_per_man_perc']=data['zjdur_per_man']/data['calldur_per_man']\n",
    "data['zjtimes_per_man_perc']=data['zjtime_per_man']/data['calltime_per_man']\n",
    "data['bj_man']=data['dt_m_1015']/data['bjdur_per_man'].replace(0, np.inf) \n",
    "data['bj_man_perc']=data['bj_man']/data['dt_m_1041'].replace(0, np.inf) \n",
    "data['zj_bj_man']=data['bj_man']+data['dt_m_1051']-data['dt_m_1041']"
   ]
  },
  {
   "cell_type": "code",
   "execution_count": 5,
   "metadata": {},
   "outputs": [
    {
     "data": {
      "text/html": [
       "<div>\n",
       "<style scoped>\n",
       "    .dataframe tbody tr th:only-of-type {\n",
       "        vertical-align: middle;\n",
       "    }\n",
       "\n",
       "    .dataframe tbody tr th {\n",
       "        vertical-align: top;\n",
       "    }\n",
       "\n",
       "    .dataframe thead th {\n",
       "        text-align: right;\n",
       "    }\n",
       "</style>\n",
       "<table border=\"1\" class=\"dataframe\">\n",
       "  <thead>\n",
       "    <tr style=\"text-align: right;\">\n",
       "      <th></th>\n",
       "      <th>user</th>\n",
       "      <th>credit_level</th>\n",
       "      <th>membership_level</th>\n",
       "      <th>gender</th>\n",
       "      <th>cust_point</th>\n",
       "      <th>inet_pd_inst_cnt</th>\n",
       "      <th>star_level</th>\n",
       "      <th>market_price</th>\n",
       "      <th>dt_m_1000</th>\n",
       "      <th>dt_m_1003</th>\n",
       "      <th>...</th>\n",
       "      <th>dt_m_1087_bj_times</th>\n",
       "      <th>dt_m_1085_bj</th>\n",
       "      <th>dt_m_1086_bj</th>\n",
       "      <th>dt_m_1087_bj</th>\n",
       "      <th>dt_m_1099_perc</th>\n",
       "      <th>dt_m_1105_perc</th>\n",
       "      <th>zjctdur_per_times</th>\n",
       "      <th>bjctdur_per_times</th>\n",
       "      <th>my_vs_ctzj</th>\n",
       "      <th>binLabel</th>\n",
       "    </tr>\n",
       "  </thead>\n",
       "  <tbody>\n",
       "    <tr>\n",
       "      <th>0</th>\n",
       "      <td>test_10047</td>\n",
       "      <td>NaN</td>\n",
       "      <td>9999.0</td>\n",
       "      <td>1.0</td>\n",
       "      <td>1403.0</td>\n",
       "      <td>11.0</td>\n",
       "      <td>1500.0</td>\n",
       "      <td>1698.0</td>\n",
       "      <td>523</td>\n",
       "      <td>78405</td>\n",
       "      <td>...</td>\n",
       "      <td>4</td>\n",
       "      <td>0.785965</td>\n",
       "      <td>0.200000</td>\n",
       "      <td>0.014035</td>\n",
       "      <td>0.043148</td>\n",
       "      <td>0.777712</td>\n",
       "      <td>125.285714</td>\n",
       "      <td>150.400000</td>\n",
       "      <td>0</td>\n",
       "      <td>1</td>\n",
       "    </tr>\n",
       "    <tr>\n",
       "      <th>1</th>\n",
       "      <td>test_106</td>\n",
       "      <td>100100.0</td>\n",
       "      <td>9999.0</td>\n",
       "      <td>1.0</td>\n",
       "      <td>5738.0</td>\n",
       "      <td>5.0</td>\n",
       "      <td>1300.0</td>\n",
       "      <td>NaN</td>\n",
       "      <td>49</td>\n",
       "      <td>1341</td>\n",
       "      <td>...</td>\n",
       "      <td>0</td>\n",
       "      <td>0.950000</td>\n",
       "      <td>0.050000</td>\n",
       "      <td>0.000000</td>\n",
       "      <td>0.214019</td>\n",
       "      <td>1.000000</td>\n",
       "      <td>47.833333</td>\n",
       "      <td>0.000000</td>\n",
       "      <td>0</td>\n",
       "      <td>1</td>\n",
       "    </tr>\n",
       "    <tr>\n",
       "      <th>2</th>\n",
       "      <td>test_10733</td>\n",
       "      <td>999999.0</td>\n",
       "      <td>9999.0</td>\n",
       "      <td>2.0</td>\n",
       "      <td>1010.0</td>\n",
       "      <td>5.0</td>\n",
       "      <td>1200.0</td>\n",
       "      <td>2199.0</td>\n",
       "      <td>112</td>\n",
       "      <td>4661</td>\n",
       "      <td>...</td>\n",
       "      <td>6</td>\n",
       "      <td>0.562500</td>\n",
       "      <td>0.343750</td>\n",
       "      <td>0.093750</td>\n",
       "      <td>0.039262</td>\n",
       "      <td>1.000000</td>\n",
       "      <td>183.000000</td>\n",
       "      <td>0.000000</td>\n",
       "      <td>2</td>\n",
       "      <td>1</td>\n",
       "    </tr>\n",
       "    <tr>\n",
       "      <th>3</th>\n",
       "      <td>test_10935</td>\n",
       "      <td>100100.0</td>\n",
       "      <td>9999.0</td>\n",
       "      <td>NaN</td>\n",
       "      <td>11952.0</td>\n",
       "      <td>1.0</td>\n",
       "      <td>1400.0</td>\n",
       "      <td>3299.0</td>\n",
       "      <td>349</td>\n",
       "      <td>49571</td>\n",
       "      <td>...</td>\n",
       "      <td>1</td>\n",
       "      <td>0.868852</td>\n",
       "      <td>0.122951</td>\n",
       "      <td>0.008197</td>\n",
       "      <td>0.615642</td>\n",
       "      <td>0.635166</td>\n",
       "      <td>201.916667</td>\n",
       "      <td>179.580645</td>\n",
       "      <td>2</td>\n",
       "      <td>1</td>\n",
       "    </tr>\n",
       "    <tr>\n",
       "      <th>4</th>\n",
       "      <td>test_11016</td>\n",
       "      <td>999999.0</td>\n",
       "      <td>9999.0</td>\n",
       "      <td>2.0</td>\n",
       "      <td>9638.0</td>\n",
       "      <td>5.0</td>\n",
       "      <td>1400.0</td>\n",
       "      <td>1799.0</td>\n",
       "      <td>49</td>\n",
       "      <td>2082</td>\n",
       "      <td>...</td>\n",
       "      <td>0</td>\n",
       "      <td>0.900000</td>\n",
       "      <td>0.100000</td>\n",
       "      <td>0.000000</td>\n",
       "      <td>0.923631</td>\n",
       "      <td>0.517421</td>\n",
       "      <td>47.380952</td>\n",
       "      <td>46.400000</td>\n",
       "      <td>0</td>\n",
       "      <td>1</td>\n",
       "    </tr>\n",
       "  </tbody>\n",
       "</table>\n",
       "<p>5 rows × 133 columns</p>\n",
       "</div>"
      ],
      "text/plain": [
       "         user  credit_level  membership_level  gender  cust_point  \\\n",
       "0  test_10047           NaN            9999.0     1.0      1403.0   \n",
       "1    test_106      100100.0            9999.0     1.0      5738.0   \n",
       "2  test_10733      999999.0            9999.0     2.0      1010.0   \n",
       "3  test_10935      100100.0            9999.0     NaN     11952.0   \n",
       "4  test_11016      999999.0            9999.0     2.0      9638.0   \n",
       "\n",
       "   inet_pd_inst_cnt  star_level  market_price  dt_m_1000  dt_m_1003    ...     \\\n",
       "0              11.0      1500.0        1698.0        523      78405    ...      \n",
       "1               5.0      1300.0           NaN         49       1341    ...      \n",
       "2               5.0      1200.0        2199.0        112       4661    ...      \n",
       "3               1.0      1400.0        3299.0        349      49571    ...      \n",
       "4               5.0      1400.0        1799.0         49       2082    ...      \n",
       "\n",
       "   dt_m_1087_bj_times  dt_m_1085_bj  dt_m_1086_bj  dt_m_1087_bj  \\\n",
       "0                   4      0.785965      0.200000      0.014035   \n",
       "1                   0      0.950000      0.050000      0.000000   \n",
       "2                   6      0.562500      0.343750      0.093750   \n",
       "3                   1      0.868852      0.122951      0.008197   \n",
       "4                   0      0.900000      0.100000      0.000000   \n",
       "\n",
       "   dt_m_1099_perc  dt_m_1105_perc  zjctdur_per_times  bjctdur_per_times  \\\n",
       "0        0.043148        0.777712         125.285714         150.400000   \n",
       "1        0.214019        1.000000          47.833333           0.000000   \n",
       "2        0.039262        1.000000         183.000000           0.000000   \n",
       "3        0.615642        0.635166         201.916667         179.580645   \n",
       "4        0.923631        0.517421          47.380952          46.400000   \n",
       "\n",
       "   my_vs_ctzj  binLabel  \n",
       "0           0         1  \n",
       "1           0         1  \n",
       "2           2         1  \n",
       "3           2         1  \n",
       "4           0         1  \n",
       "\n",
       "[5 rows x 133 columns]"
      ]
     },
     "execution_count": 5,
     "metadata": {},
     "output_type": "execute_result"
    }
   ],
   "source": [
    "data[\"binLabel\"]=data[\"label\"].apply(lambda x: 0 if x==\"7C26FADD409BD4B9\" else 1)\n",
    "data.head()"
   ]
  },
  {
   "cell_type": "code",
   "execution_count": 35,
   "metadata": {},
   "outputs": [],
   "source": [
    "lb=LabelEncoder()\n",
    "data['app_pref']=data['app_pref'].fillna(\"app0_visits\")\n",
    "for col in [\"brand\",\"product\",'app_pref']:\n",
    "    data[col]=lb.fit_transform(data[col])"
   ]
  },
  {
   "cell_type": "code",
   "execution_count": 36,
   "metadata": {},
   "outputs": [
    {
     "data": {
      "text/plain": [
       "79407"
      ]
     },
     "execution_count": 36,
     "metadata": {},
     "output_type": "execute_result"
    }
   ],
   "source": [
    "submitData=data[data[\"label\"].isnull()]\n",
    "submitData[\"user\"].count()"
   ]
  },
  {
   "cell_type": "code",
   "execution_count": 37,
   "metadata": {},
   "outputs": [
    {
     "data": {
      "text/plain": [
       "322757"
      ]
     },
     "execution_count": 37,
     "metadata": {},
     "output_type": "execute_result"
    }
   ],
   "source": [
    "trainData=data[~data[\"label\"].isnull()]\n",
    "trainData[\"user\"].count()"
   ]
  },
  {
   "cell_type": "code",
   "execution_count": 38,
   "metadata": {},
   "outputs": [
    {
     "name": "stderr",
     "output_type": "stream",
     "text": [
      "D:\\Users\\fjc-pc\\Anaconda3\\lib\\site-packages\\ipykernel_launcher.py:1: SettingWithCopyWarning: \n",
      "A value is trying to be set on a copy of a slice from a DataFrame.\n",
      "Try using .loc[row_indexer,col_indexer] = value instead\n",
      "\n",
      "See the caveats in the documentation: http://pandas.pydata.org/pandas-docs/stable/indexing.html#indexing-view-versus-copy\n",
      "  \"\"\"Entry point for launching an IPython kernel.\n"
     ]
    }
   ],
   "source": [
    "trainData[\"label_index\"]=lb.fit_transform(trainData[\"label\"])\n",
    "# X=trainData[modelCols]\n",
    "y=trainData[\"label_index\"]"
   ]
  },
  {
   "cell_type": "code",
   "execution_count": 39,
   "metadata": {},
   "outputs": [],
   "source": [
    "# train_x, test_x, train_y, test_y=train_test_split(X,y,random_state=0)\n",
    "# dtrain=xgb.DMatrix(train_x,label=train_y,missing=np.NaN)\n",
    "# dtest=xgb.DMatrix(test_x,missing=np.NaN)\n",
    "train_x_all, test_x_all, train_y_all, test_y=train_test_split(trainData,y,random_state=0)\n",
    "\n",
    "m=train_x_all[train_x_all[\"label\"]=='7C26FADD409BD4B9']\n",
    "n=train_x_all[train_x_all[\"label\"]!='7C26FADD409BD4B9']\n",
    "sample=m.sample(50000,random_state=963741)\n",
    "train=n.append(sample)\n",
    "train_x=train[modelCols]\n",
    "train_y=train[\"label_index\"]\n",
    "test_x=test_x_all[modelCols]"
   ]
  },
  {
   "cell_type": "code",
   "execution_count": 10,
   "metadata": {},
   "outputs": [],
   "source": [
    "#全部数据训练\n",
    "train_x_all, test_x_all, train_y_all, test_y=train_test_split(trainData,y,random_state=0)\n",
    "train_x=train_x_all[modelCols]\n",
    "train_y=train_x_all[\"label_index\"]\n",
    "test_x=test_x_all[modelCols]"
   ]
  },
  {
   "cell_type": "code",
   "execution_count": 40,
   "metadata": {},
   "outputs": [],
   "source": [
    "xlf = xgb.XGBClassifier(booster=\"gbtree\",\n",
    "                        objective=\"multi:softmax\",\n",
    "                        num_class=5,\n",
    "                        eval_metric=\"mlogloss\",\n",
    "                        n_estimators=150,\n",
    "                        max_depth=9,\n",
    "                        reg_alpha=0,\n",
    "                        reg_lambda=1,\n",
    "                        subsample=0.6,\n",
    "                        colsample_bytree=0.3,\n",
    "                        learning_rate=0.1,\n",
    "                        n_jobs=10,\n",
    "                        grow_policy=\"lossguide\"\n",
    "                        )"
   ]
  },
  {
   "cell_type": "code",
   "execution_count": 41,
   "metadata": {},
   "outputs": [],
   "source": [
    "xgbModel=xlf.fit(train_x,train_y)"
   ]
  },
  {
   "cell_type": "code",
   "execution_count": 42,
   "metadata": {},
   "outputs": [
    {
     "data": {
      "image/png": "[encoded data removed]",
      "text/plain": [
       "<Figure size 432x288 with 1 Axes>"
      ]
     },
     "metadata": {},
     "output_type": "display_data"
    }
   ],
   "source": [
    "plot_importance(xgbModel)\n",
    "pyplot.show()"
   ]
  },
  {
   "cell_type": "code",
   "execution_count": 43,
   "metadata": {},
   "outputs": [
    {
     "name": "stdout",
     "output_type": "stream",
     "text": [
      "0.8881616150423302\n"
     ]
    }
   ],
   "source": [
    "y_pred = xgbModel.predict(test_x)\n",
    "macro_f1=f1_score(test_y,y_pred,average='macro')\n",
    "print(macro_f1)"
   ]
  },
  {
   "cell_type": "code",
   "execution_count": 14,
   "metadata": {},
   "outputs": [
    {
     "data": {
      "text/html": [
       "<div>\n",
       "<style scoped>\n",
       "    .dataframe tbody tr th:only-of-type {\n",
       "        vertical-align: middle;\n",
       "    }\n",
       "\n",
       "    .dataframe tbody tr th {\n",
       "        vertical-align: top;\n",
       "    }\n",
       "\n",
       "    .dataframe thead th {\n",
       "        text-align: right;\n",
       "    }\n",
       "</style>\n",
       "<table border=\"1\" class=\"dataframe\">\n",
       "  <thead>\n",
       "    <tr style=\"text-align: right;\">\n",
       "      <th>col_0</th>\n",
       "      <th>0</th>\n",
       "      <th>1</th>\n",
       "      <th>2</th>\n",
       "      <th>3</th>\n",
       "      <th>4</th>\n",
       "    </tr>\n",
       "    <tr>\n",
       "      <th>label_index</th>\n",
       "      <th></th>\n",
       "      <th></th>\n",
       "      <th></th>\n",
       "      <th></th>\n",
       "      <th></th>\n",
       "    </tr>\n",
       "  </thead>\n",
       "  <tbody>\n",
       "    <tr>\n",
       "      <th>0</th>\n",
       "      <td>1934</td>\n",
       "      <td>7</td>\n",
       "      <td>386</td>\n",
       "      <td>279</td>\n",
       "      <td>1</td>\n",
       "    </tr>\n",
       "    <tr>\n",
       "      <th>1</th>\n",
       "      <td>3</td>\n",
       "      <td>1991</td>\n",
       "      <td>86</td>\n",
       "      <td>104</td>\n",
       "      <td>26</td>\n",
       "    </tr>\n",
       "    <tr>\n",
       "      <th>2</th>\n",
       "      <td>29</td>\n",
       "      <td>57</td>\n",
       "      <td>70384</td>\n",
       "      <td>186</td>\n",
       "      <td>36</td>\n",
       "    </tr>\n",
       "    <tr>\n",
       "      <th>3</th>\n",
       "      <td>96</td>\n",
       "      <td>51</td>\n",
       "      <td>280</td>\n",
       "      <td>4110</td>\n",
       "      <td>4</td>\n",
       "    </tr>\n",
       "    <tr>\n",
       "      <th>4</th>\n",
       "      <td>0</td>\n",
       "      <td>4</td>\n",
       "      <td>120</td>\n",
       "      <td>7</td>\n",
       "      <td>509</td>\n",
       "    </tr>\n",
       "  </tbody>\n",
       "</table>\n",
       "</div>"
      ],
      "text/plain": [
       "col_0           0     1      2     3    4\n",
       "label_index                              \n",
       "0            1934     7    386   279    1\n",
       "1               3  1991     86   104   26\n",
       "2              29    57  70384   186   36\n",
       "3              96    51    280  4110    4\n",
       "4               0     4    120     7  509"
      ]
     },
     "execution_count": 14,
     "metadata": {},
     "output_type": "execute_result"
    }
   ],
   "source": [
    "pd.crosstab(test_y,y_pred)"
   ]
  },
  {
   "cell_type": "code",
   "execution_count": 44,
   "metadata": {},
   "outputs": [
    {
     "data": {
      "text/html": [
       "<div>\n",
       "<style scoped>\n",
       "    .dataframe tbody tr th:only-of-type {\n",
       "        vertical-align: middle;\n",
       "    }\n",
       "\n",
       "    .dataframe tbody tr th {\n",
       "        vertical-align: top;\n",
       "    }\n",
       "\n",
       "    .dataframe thead th {\n",
       "        text-align: right;\n",
       "    }\n",
       "</style>\n",
       "<table border=\"1\" class=\"dataframe\">\n",
       "  <thead>\n",
       "    <tr style=\"text-align: right;\">\n",
       "      <th>col_0</th>\n",
       "      <th>0</th>\n",
       "      <th>1</th>\n",
       "      <th>2</th>\n",
       "      <th>3</th>\n",
       "      <th>4</th>\n",
       "    </tr>\n",
       "    <tr>\n",
       "      <th>label_index</th>\n",
       "      <th></th>\n",
       "      <th></th>\n",
       "      <th></th>\n",
       "      <th></th>\n",
       "      <th></th>\n",
       "    </tr>\n",
       "  </thead>\n",
       "  <tbody>\n",
       "    <tr>\n",
       "      <th>0</th>\n",
       "      <td>1967</td>\n",
       "      <td>7</td>\n",
       "      <td>332</td>\n",
       "      <td>301</td>\n",
       "      <td>0</td>\n",
       "    </tr>\n",
       "    <tr>\n",
       "      <th>1</th>\n",
       "      <td>4</td>\n",
       "      <td>2023</td>\n",
       "      <td>52</td>\n",
       "      <td>101</td>\n",
       "      <td>30</td>\n",
       "    </tr>\n",
       "    <tr>\n",
       "      <th>2</th>\n",
       "      <td>88</td>\n",
       "      <td>138</td>\n",
       "      <td>70011</td>\n",
       "      <td>337</td>\n",
       "      <td>118</td>\n",
       "    </tr>\n",
       "    <tr>\n",
       "      <th>3</th>\n",
       "      <td>110</td>\n",
       "      <td>64</td>\n",
       "      <td>187</td>\n",
       "      <td>4171</td>\n",
       "      <td>9</td>\n",
       "    </tr>\n",
       "    <tr>\n",
       "      <th>4</th>\n",
       "      <td>0</td>\n",
       "      <td>5</td>\n",
       "      <td>54</td>\n",
       "      <td>10</td>\n",
       "      <td>571</td>\n",
       "    </tr>\n",
       "  </tbody>\n",
       "</table>\n",
       "</div>"
      ],
      "text/plain": [
       "col_0           0     1      2     3    4\n",
       "label_index                              \n",
       "0            1967     7    332   301    0\n",
       "1               4  2023     52   101   30\n",
       "2              88   138  70011   337  118\n",
       "3             110    64    187  4171    9\n",
       "4               0     5     54    10  571"
      ]
     },
     "execution_count": 44,
     "metadata": {},
     "output_type": "execute_result"
    }
   ],
   "source": [
    "pd.crosstab(test_y,y_pred)"
   ]
  },
  {
   "cell_type": "code",
   "execution_count": 45,
   "metadata": {},
   "outputs": [
    {
     "name": "stderr",
     "output_type": "stream",
     "text": [
      "D:\\Users\\fjc-pc\\Anaconda3\\lib\\site-packages\\ipykernel_launcher.py:2: SettingWithCopyWarning: \n",
      "A value is trying to be set on a copy of a slice from a DataFrame.\n",
      "Try using .loc[row_indexer,col_indexer] = value instead\n",
      "\n",
      "See the caveats in the documentation: http://pandas.pydata.org/pandas-docs/stable/indexing.html#indexing-view-versus-copy\n",
      "  \n"
     ]
    }
   ],
   "source": [
    "submit_pred=xgbModel.predict(submitData[modelCols])\n",
    "submitData[\"pred_label\"]=lb.inverse_transform(submit_pred)"
   ]
  },
  {
   "cell_type": "code",
   "execution_count": 46,
   "metadata": {},
   "outputs": [
    {
     "data": {
      "text/plain": [
       "pred_label\n",
       "0F2E4CC10EDBE80F     1132\n",
       "56AFA2A526F96CC9     2400\n",
       "7C26FADD409BD4B9    70531\n",
       "816A9BEBED2D7C99     4572\n",
       "C7E2941B65C6CCD6      772\n",
       "Name: user, dtype: int64"
      ]
     },
     "execution_count": 46,
     "metadata": {},
     "output_type": "execute_result"
    }
   ],
   "source": [
    "submitData.groupby(\"pred_label\")[\"user\"].count()"
   ]
  },
  {
   "cell_type": "code",
   "execution_count": 47,
   "metadata": {},
   "outputs": [],
   "source": [
    "submitData[[\"user\",\"pred_label\"]].to_csv(\"E:\\zte\\data\\chongqin_xgb_2.csv\",index=False,header=False)"
   ]
  },
  {
   "cell_type": "code",
   "execution_count": 28,
   "metadata": {},
   "outputs": [
    {
     "data": {
      "text/plain": [
       "array(['0F2E4CC10EDBE80F', '56AFA2A526F96CC9', '7C26FADD409BD4B9',\n",
       "       '816A9BEBED2D7C99', 'C7E2941B65C6CCD6'], dtype=object)"
      ]
     },
     "execution_count": 28,
     "metadata": {},
     "output_type": "execute_result"
    }
   ],
   "source": [
    "lb.inverse_transform([0,1,2,3,4])"
   ]
  },
  {
   "cell_type": "code",
   "execution_count": 48,
   "metadata": {},
   "outputs": [
    {
     "name": "stdout",
     "output_type": "stream",
     "text": [
      "credit_level 0.0030173918\n",
      "gender 0.0024638467\n",
      "inet_pd_inst_cnt 0.001968448\n",
      "star_level 0.0086627565\n",
      "dt_m_1000 0.0130400285\n",
      "dt_m_1003 0.0027588282\n",
      "dt_m_1004 0.0025529298\n",
      "dt_m_1005 0.0040986435\n",
      "dt_m_1006 0.021582011\n",
      "dt_m_1009 0.0038675775\n",
      "dt_m_1011 0.003381125\n",
      "dt_m_1012 0.004928548\n",
      "dt_m_1015 0.0031096477\n",
      "dt_m_1017 0.0031823593\n",
      "dt_m_1027 0.0059727966\n",
      "dt_m_1028 0.007660954\n",
      "dt_m_1041 0.013048414\n",
      "dt_m_1044 0.020342795\n",
      "dt_m_1051 0.018729\n",
      "dt_m_1053 0.009395628\n",
      "dt_m_1067 0.05202406\n",
      "dt_m_1069 0.0036042933\n",
      "dt_m_1073 0.0067547043\n",
      "dt_m_1074 0.003000095\n",
      "dt_m_1075 0.006454053\n",
      "dt_m_1085 0.002531804\n",
      "dt_m_1086 0.002642313\n",
      "dt_m_1087 0.008645683\n",
      "dt_m_1096 0.0031407035\n",
      "dt_m_1099 0.004324527\n",
      "dt_m_1102 0.0037649744\n",
      "dt_m_1105 0.0038615302\n",
      "dt_m_1108 0.0025947974\n",
      "dt_m_1111 0.0024740186\n",
      "dt_m_1594 0.0052901437\n",
      "dt_m_1601 0.0042160465\n",
      "dt_m_1617 0.0050864513\n",
      "dt_m_1618 0.0026793082\n",
      "dt_m_1620 0.0027870622\n",
      "dt_m_1630 0.0037279688\n",
      "dt_m_1633 0.0024239672\n",
      "last_year_capture_user_flag 0.003947386\n",
      "app1_visits 0.031833295\n",
      "app2_visits 0.0048073935\n",
      "app3_visits 0.0033774753\n",
      "app4_visits 0.0028664756\n",
      "app5_visits 0.0026705102\n",
      "app6_visits 0.0023055782\n",
      "app7_visits 0.0025459134\n",
      "app8_visits 0.0024171378\n",
      "access_net_dur 0.004870251\n",
      "tmlRegister_net_dur 0.0026369842\n",
      "prdOpen_dur 0.008069152\n",
      "tmlRegister_dur 0.0019345944\n",
      "prdOpen_net_dur 0.0023483653\n",
      "brand 0.0019363334\n",
      "product 0.0030961412\n",
      "cust_point_level 0.0044685616\n",
      "age 0.0033379216\n",
      "market_price_level 0.0019556596\n",
      "app_cnt 0.0042127282\n",
      "dt_m_1027_type 0.0068246378\n",
      "dt_m_1075_type 0.0385773\n",
      "dt_m_1086_type 0.0015754194\n",
      "dt_m_1087_type 0.0029602067\n",
      "dt_m_1102_type 0.003523193\n",
      "dt_m_1108_type 0.0018775335\n",
      "dt_m_1594_type 0.003750191\n",
      "dt_m_1617_type 0.0018118634\n",
      "dt_m_1630_type 0.0028184648\n",
      "dt_m_1633_type 0.0031646364\n",
      "app1_visits_type 0.039982848\n",
      "app2_visits_type 0.0059435093\n",
      "app3_visits_type 0.0022115884\n",
      "app4_visits_type 0.0021443951\n",
      "app5_visits_type 0.0018215247\n",
      "app6_visits_type 0.002451388\n",
      "app7_visits_type 0.0025063816\n",
      "dt_m_1087_pref 0.0020302967\n",
      "in_10s_per 0.0033730324\n",
      "in_10_30s_per 0.0029665397\n",
      "in_30_60s_per 0.0027930778\n",
      "out_60s_per 0.009126307\n",
      "dt_m_1035_pref 0.0076351506\n",
      "dt_m_1043 0.007758321\n",
      "dt_m_1052 0.041158054\n",
      "zjdur_per_times 0.011346675\n",
      "bjdur_per_times 0.0034775133\n",
      "zjdur_perc 0.01354469\n",
      "bjdur_perc 0.024825646\n",
      "zjdur_per_man 0.044090834\n",
      "zjman_perc 0.003878015\n",
      "zjman_per_recent3 0.0064578685\n",
      "dt_m_1085_bj 0.0024855442\n",
      "dt_m_1086_bj 0.0024758128\n",
      "dt_m_1087_bj 0.0028399637\n",
      "dt_m_1099_perc 0.014123499\n",
      "dt_m_1105_perc 0.016743455\n",
      "zjctdur_per_times 0.0037973998\n",
      "bjctdur_per_times 0.0020430821\n",
      "market_price_per_mon 0.0019984099\n",
      "ctdur_per_times 0.004189996\n",
      "zjctdur_perc 0.0023621405\n",
      "total_message 0.0025351865\n",
      "message_send_perc 0.00324765\n",
      "zjtimes_per_day 0.018075418\n",
      "bjtimes_per_day 0.008683043\n",
      "zjdur_mean_vs_max 0.005429942\n",
      "bjdur_mean_vs_max 0.0024352078\n",
      "current_month_man_perc 0.01049335\n",
      "zj_current_month_man_perc 0.004902892\n",
      "dt_m_1034 0.004927351\n",
      "dt_m_1035 0.011051406\n",
      "liuliang_per_dur 0.0022043462\n",
      "app_pref 0.002720254\n",
      "netdur_per_appvisit 0.0023262182\n",
      "netflow_per_appvisit 0.0023106802\n",
      "flowmean_per_prod 0.0047242213\n",
      "zjdurmean_per_prod 0.004917201\n",
      "zjdur_per_prodcnt 0.002205947\n",
      "bjdur_per_prodcnt 0.0023458165\n",
      "flow_per_prodcnt 0.0025446082\n",
      "message_per_prodcnt 0.0026193182\n",
      "rest_zj_perc 0.0026247394\n",
      "zjman_per_day 0.044343896\n",
      "zjtime_per_man 0.06691185\n",
      "bjtimes_per_man 0.010510185\n",
      "bjdur_per_man 0.004278914\n",
      "zjdur_per_man_perc 0.006834431\n",
      "zjtimes_per_man_perc 0.0041060303\n",
      "bj_man 0.006524468\n",
      "bj_man_perc 0.0028089406\n",
      "zj_bj_man 0.0050118314\n",
      "app_visits_std 0.0024481819\n"
     ]
    }
   ],
   "source": [
    "for x,y in zip(modelCols,xlf.feature_importances_):\n",
    "    print(x,y)"
   ]
  },
  {
   "cell_type": "code",
   "execution_count": 36,
   "metadata": {},
   "outputs": [],
   "source": [
    "from sklearn.ensemble import RandomForestClassifier\n",
    "rfc=RandomForestClassifier(random_state=42,\n",
    "                           max_depth=15,\n",
    "                           n_estimators=300,\n",
    "                           class_weight=\"balanced_subsample\",\n",
    "                           max_features=\"sqrt\",\n",
    "                           n_jobs=10\n",
    "                           )"
   ]
  },
  {
   "cell_type": "code",
   "execution_count": 37,
   "metadata": {},
   "outputs": [],
   "source": [
    "rfData=train_x_all[modelCols].fillna(0)\n",
    "rfc_model=rfc.fit(rfData,train_y_all)"
   ]
  },
  {
   "cell_type": "code",
   "execution_count": 38,
   "metadata": {},
   "outputs": [
    {
     "name": "stdout",
     "output_type": "stream",
     "text": [
      "随机森林测准确率： 0.8707559319971871\n"
     ]
    }
   ],
   "source": [
    "rftest=test_x.fillna(0)\n",
    "rfc_predict_result=rfc.predict(rftest)\n",
    "rfc_macro_f1=f1_score(test_y,rfc_predict_result,average='macro')\n",
    "print(\"随机森林测准确率：\",rfc_macro_f1)\n",
    "rfc_confuse_table=pd.crosstab(test_y,rfc_predict_result)"
   ]
  },
  {
   "cell_type": "code",
   "execution_count": 39,
   "metadata": {},
   "outputs": [
    {
     "data": {
      "text/html": [
       "<div>\n",
       "<style scoped>\n",
       "    .dataframe tbody tr th:only-of-type {\n",
       "        vertical-align: middle;\n",
       "    }\n",
       "\n",
       "    .dataframe tbody tr th {\n",
       "        vertical-align: top;\n",
       "    }\n",
       "\n",
       "    .dataframe thead th {\n",
       "        text-align: right;\n",
       "    }\n",
       "</style>\n",
       "<table border=\"1\" class=\"dataframe\">\n",
       "  <thead>\n",
       "    <tr style=\"text-align: right;\">\n",
       "      <th>col_0</th>\n",
       "      <th>0</th>\n",
       "      <th>1</th>\n",
       "      <th>2</th>\n",
       "      <th>3</th>\n",
       "      <th>4</th>\n",
       "    </tr>\n",
       "    <tr>\n",
       "      <th>label_index</th>\n",
       "      <th></th>\n",
       "      <th></th>\n",
       "      <th></th>\n",
       "      <th></th>\n",
       "      <th></th>\n",
       "    </tr>\n",
       "  </thead>\n",
       "  <tbody>\n",
       "    <tr>\n",
       "      <th>0</th>\n",
       "      <td>1880</td>\n",
       "      <td>7</td>\n",
       "      <td>417</td>\n",
       "      <td>302</td>\n",
       "      <td>1</td>\n",
       "    </tr>\n",
       "    <tr>\n",
       "      <th>1</th>\n",
       "      <td>3</td>\n",
       "      <td>1948</td>\n",
       "      <td>77</td>\n",
       "      <td>153</td>\n",
       "      <td>29</td>\n",
       "    </tr>\n",
       "    <tr>\n",
       "      <th>2</th>\n",
       "      <td>55</td>\n",
       "      <td>88</td>\n",
       "      <td>70079</td>\n",
       "      <td>269</td>\n",
       "      <td>201</td>\n",
       "    </tr>\n",
       "    <tr>\n",
       "      <th>3</th>\n",
       "      <td>85</td>\n",
       "      <td>93</td>\n",
       "      <td>298</td>\n",
       "      <td>4058</td>\n",
       "      <td>7</td>\n",
       "    </tr>\n",
       "    <tr>\n",
       "      <th>4</th>\n",
       "      <td>0</td>\n",
       "      <td>5</td>\n",
       "      <td>62</td>\n",
       "      <td>4</td>\n",
       "      <td>569</td>\n",
       "    </tr>\n",
       "  </tbody>\n",
       "</table>\n",
       "</div>"
      ],
      "text/plain": [
       "col_0           0     1      2     3    4\n",
       "label_index                              \n",
       "0            1880     7    417   302    1\n",
       "1               3  1948     77   153   29\n",
       "2              55    88  70079   269  201\n",
       "3              85    93    298  4058    7\n",
       "4               0     5     62     4  569"
      ]
     },
     "execution_count": 39,
     "metadata": {},
     "output_type": "execute_result"
    }
   ],
   "source": [
    "rfc_confuse_table"
   ]
  },
  {
   "cell_type": "code",
   "execution_count": 10,
   "metadata": {},
   "outputs": [],
   "source": [
    "#二分类先识别最多一类\n",
    "feature=trainData[modelCols]\n",
    "flag=trainData['binLabel']\n",
    "train_x_all, test_x_all, train_y_all, test_y=train_test_split(feature,flag,random_state=56873)"
   ]
  },
  {
   "cell_type": "code",
   "execution_count": 82,
   "metadata": {},
   "outputs": [],
   "source": [
    "xlf_01 = xgb.XGBClassifier(booster=\"gbtree\",\n",
    "                        objective=\"binary:logistic\",\n",
    "                        eval_metric=\"auc\",\n",
    "                        n_estimators=200,\n",
    "                        max_depth=8,\n",
    "                        reg_alpha=0,\n",
    "                        reg_lambda=1,\n",
    "                        subsample=0.6,\n",
    "                        colsample_bytree=0.3,\n",
    "                        learning_rate=0.05,\n",
    "                        scale_pos_weight=3,\n",
    "                        n_jobs=10,\n",
    "                        grow_policy=\"lossguide\"\n",
    "                        )"
   ]
  },
  {
   "cell_type": "code",
   "execution_count": 83,
   "metadata": {},
   "outputs": [],
   "source": [
    "xgbModel_01=xlf_01.fit(train_x_all,train_y_all)"
   ]
  },
  {
   "cell_type": "code",
   "execution_count": 84,
   "metadata": {},
   "outputs": [
    {
     "name": "stdout",
     "output_type": "stream",
     "text": [
      "0.9407459394425506\n"
     ]
    }
   ],
   "source": [
    "y_pred = xgbModel_01.predict(test_x_all)\n",
    "macro_f1=f1_score(test_y,y_pred)\n",
    "print(macro_f1)"
   ]
  },
  {
   "cell_type": "code",
   "execution_count": 31,
   "metadata": {},
   "outputs": [
    {
     "data": {
      "text/html": [
       "<div>\n",
       "<style scoped>\n",
       "    .dataframe tbody tr th:only-of-type {\n",
       "        vertical-align: middle;\n",
       "    }\n",
       "\n",
       "    .dataframe tbody tr th {\n",
       "        vertical-align: top;\n",
       "    }\n",
       "\n",
       "    .dataframe thead th {\n",
       "        text-align: right;\n",
       "    }\n",
       "</style>\n",
       "<table border=\"1\" class=\"dataframe\">\n",
       "  <thead>\n",
       "    <tr style=\"text-align: right;\">\n",
       "      <th>col_0</th>\n",
       "      <th>0</th>\n",
       "      <th>1</th>\n",
       "    </tr>\n",
       "    <tr>\n",
       "      <th>binLabel</th>\n",
       "      <th></th>\n",
       "      <th></th>\n",
       "    </tr>\n",
       "  </thead>\n",
       "  <tbody>\n",
       "    <tr>\n",
       "      <th>0</th>\n",
       "      <td>70322</td>\n",
       "      <td>388</td>\n",
       "    </tr>\n",
       "    <tr>\n",
       "      <th>1</th>\n",
       "      <td>770</td>\n",
       "      <td>9210</td>\n",
       "    </tr>\n",
       "  </tbody>\n",
       "</table>\n",
       "</div>"
      ],
      "text/plain": [
       "col_0         0     1\n",
       "binLabel             \n",
       "0         70322   388\n",
       "1           770  9210"
      ]
     },
     "execution_count": 31,
     "metadata": {},
     "output_type": "execute_result"
    }
   ],
   "source": [
    "pd.crosstab(test_y,y_pred)"
   ]
  },
  {
   "cell_type": "code",
   "execution_count": 85,
   "metadata": {},
   "outputs": [
    {
     "data": {
      "text/html": [
       "<div>\n",
       "<style scoped>\n",
       "    .dataframe tbody tr th:only-of-type {\n",
       "        vertical-align: middle;\n",
       "    }\n",
       "\n",
       "    .dataframe tbody tr th {\n",
       "        vertical-align: top;\n",
       "    }\n",
       "\n",
       "    .dataframe thead th {\n",
       "        text-align: right;\n",
       "    }\n",
       "</style>\n",
       "<table border=\"1\" class=\"dataframe\">\n",
       "  <thead>\n",
       "    <tr style=\"text-align: right;\">\n",
       "      <th>col_0</th>\n",
       "      <th>0</th>\n",
       "      <th>1</th>\n",
       "    </tr>\n",
       "    <tr>\n",
       "      <th>binLabel</th>\n",
       "      <th></th>\n",
       "      <th></th>\n",
       "    </tr>\n",
       "  </thead>\n",
       "  <tbody>\n",
       "    <tr>\n",
       "      <th>0</th>\n",
       "      <td>70125</td>\n",
       "      <td>585</td>\n",
       "    </tr>\n",
       "    <tr>\n",
       "      <th>1</th>\n",
       "      <td>597</td>\n",
       "      <td>9383</td>\n",
       "    </tr>\n",
       "  </tbody>\n",
       "</table>\n",
       "</div>"
      ],
      "text/plain": [
       "col_0         0     1\n",
       "binLabel             \n",
       "0         70125   585\n",
       "1           597  9383"
      ]
     },
     "execution_count": 85,
     "metadata": {},
     "output_type": "execute_result"
    }
   ],
   "source": [
    "pd.crosstab(test_y,y_pred)"
   ]
  },
  {
   "cell_type": "code",
   "execution_count": 86,
   "metadata": {},
   "outputs": [
    {
     "name": "stderr",
     "output_type": "stream",
     "text": [
      "D:\\Users\\fjc-pc\\Anaconda3\\lib\\site-packages\\ipykernel_launcher.py:2: SettingWithCopyWarning: \n",
      "A value is trying to be set on a copy of a slice from a DataFrame.\n",
      "Try using .loc[row_indexer,col_indexer] = value instead\n",
      "\n",
      "See the caveats in the documentation: http://pandas.pydata.org/pandas-docs/stable/indexing.html#indexing-view-versus-copy\n",
      "  \n"
     ]
    },
    {
     "data": {
      "text/plain": [
       "pred_label_01\n",
       "0    70564\n",
       "1     8843\n",
       "Name: user, dtype: int64"
      ]
     },
     "execution_count": 86,
     "metadata": {},
     "output_type": "execute_result"
    }
   ],
   "source": [
    "submit_pred_01=xgbModel_01.predict(submitData[modelCols])\n",
    "submitData[\"pred_label_01\"]=submit_pred_01\n",
    "submitData.groupby(\"pred_label_01\")[\"user\"].count()"
   ]
  },
  {
   "cell_type": "code",
   "execution_count": 87,
   "metadata": {},
   "outputs": [
    {
     "name": "stderr",
     "output_type": "stream",
     "text": [
      "D:\\Users\\fjc-pc\\Anaconda3\\lib\\site-packages\\ipykernel_launcher.py:2: SettingWithCopyWarning: \n",
      "A value is trying to be set on a copy of a slice from a DataFrame.\n",
      "Try using .loc[row_indexer,col_indexer] = value instead\n",
      "\n",
      "See the caveats in the documentation: http://pandas.pydata.org/pandas-docs/stable/indexing.html#indexing-view-versus-copy\n",
      "  \n"
     ]
    },
    {
     "data": {
      "text/plain": [
       "70564"
      ]
     },
     "execution_count": 87,
     "metadata": {},
     "output_type": "execute_result"
    }
   ],
   "source": [
    "num_3=submitData[submitData['pred_label_01']==0]\n",
    "num_3['pred']=\"7C26FADD409BD4B9\"\n",
    "num_3_result=num_3[['user','pred']]\n",
    "num_3_result['user'].count()"
   ]
  },
  {
   "cell_type": "code",
   "execution_count": 53,
   "metadata": {},
   "outputs": [
    {
     "name": "stdout",
     "output_type": "stream",
     "text": [
      "credit_level 0.004043095\n",
      "gender 0.0026771561\n",
      "inet_pd_inst_cnt 0.002183161\n",
      "star_level 0.007866723\n",
      "dt_m_1000 0.020694058\n",
      "dt_m_1003 0.0024271407\n",
      "dt_m_1004 0.0021961285\n",
      "dt_m_1005 0.0028695895\n",
      "dt_m_1006 0.023964848\n",
      "dt_m_1009 0.003986756\n",
      "dt_m_1011 0.005089733\n",
      "dt_m_1012 0.010712036\n",
      "dt_m_1015 0.0052083298\n",
      "dt_m_1017 0.0050893086\n",
      "dt_m_1027 0.046894297\n",
      "dt_m_1028 0.008034003\n",
      "dt_m_1041 0.030828202\n",
      "dt_m_1044 0.041102514\n",
      "dt_m_1051 0.13392219\n",
      "dt_m_1053 0.11696449\n",
      "dt_m_1067 0.0814627\n",
      "dt_m_1069 0.010202452\n",
      "dt_m_1073 0.015838962\n",
      "dt_m_1074 0.011148368\n",
      "dt_m_1075 0.02267592\n",
      "dt_m_1085 0.0097532105\n",
      "dt_m_1086 0.0025275494\n",
      "dt_m_1087 0.00924725\n",
      "dt_m_1096 0.0053342218\n",
      "dt_m_1099 0.0043272916\n",
      "dt_m_1102 0.013088277\n",
      "dt_m_1105 0.0040873084\n",
      "dt_m_1108 0.0025772157\n",
      "dt_m_1111 0.0023511755\n",
      "dt_m_1594 0.0027611721\n",
      "dt_m_1601 0.006375134\n",
      "dt_m_1617 0.006410802\n",
      "dt_m_1618 0.0028791905\n",
      "dt_m_1620 0.0043270085\n",
      "dt_m_1630 0.0032256735\n",
      "dt_m_1633 0.0034819918\n",
      "last_year_capture_user_flag 0.003962081\n",
      "app1_visits 0.030313483\n",
      "app2_visits 0.0033935688\n",
      "app3_visits 0.0022341378\n",
      "app4_visits 0.0033713714\n",
      "app5_visits 0.002864804\n",
      "app6_visits 0.0022359928\n",
      "app7_visits 0.002704801\n",
      "app8_visits 0.0025870253\n",
      "access_net_dur 0.010622281\n",
      "tmlRegister_net_dur 0.002639406\n",
      "prdOpen_dur 0.008932364\n",
      "tmlRegister_dur 0.001752157\n",
      "prdOpen_net_dur 0.0024586695\n",
      "brand 0.0018670169\n",
      "product 0.0056097927\n",
      "cust_point_level 0.004523767\n",
      "age 0.0038894447\n",
      "market_price_level 0.0018550358\n",
      "app_cnt 0.0033946494\n",
      "dt_m_1012_type 0.015307781\n",
      "dt_m_1027_type 0.03481151\n",
      "dt_m_1032_type 0.001451766\n",
      "dt_m_1034_type 0.0007872966\n",
      "dt_m_1075_type 0.026428256\n",
      "dt_m_1086_type 0.00058719673\n",
      "dt_m_1087_type 0.030329045\n",
      "dt_m_1096_type 0.000980605\n",
      "dt_m_1102_type 0.0058768173\n",
      "dt_m_1108_type 0.0025395683\n",
      "dt_m_1594_type 0.005079389\n",
      "dt_m_1617_type 0.004385058\n",
      "dt_m_1620_type 0.0010734282\n",
      "dt_m_1630_type 0.0036131819\n",
      "dt_m_1633_type 0.002856082\n",
      "app1_visits_type 0.01689143\n",
      "app2_visits_type 0.0038511527\n",
      "app3_visits_type 0.0015305717\n",
      "app4_visits_type 0.0036609166\n",
      "app5_visits_type 0.002177952\n",
      "app6_visits_type 0.0016650939\n",
      "app7_visits_type 0.0034517527\n",
      "app8_visits_type 0.001881525\n",
      "dt_m_1087_pref 0.0033818097\n",
      "in_10s_per 0.00712888\n",
      "in_10_30s_per 0.0027829448\n",
      "in_30_60s_per 0.0052085216\n",
      "out_60s_per 0.0037113612\n",
      "dt_m_1035_pref 0.004520668\n"
     ]
    }
   ],
   "source": [
    "for x,y in zip(modelCols,xlf_01.feature_importances_):\n",
    "    print(x,y)"
   ]
  },
  {
   "cell_type": "code",
   "execution_count": 100,
   "metadata": {},
   "outputs": [],
   "source": [
    "otherSampleData=trainData[trainData[\"label\"]!='7C26FADD409BD4B9'].drop(\"label_index\",axis=1)\n",
    "otherSampleData[\"label_index\"]=lb.fit_transform(otherSampleData[\"label\"])\n",
    "X=otherSampleData[modelCols]\n",
    "y=otherSampleData[\"label_index\"]\n",
    "train_x_other, test_x_other, train_y_other, test_y_other=train_test_split(X,y,random_state=56873)"
   ]
  },
  {
   "cell_type": "code",
   "execution_count": 166,
   "metadata": {},
   "outputs": [],
   "source": [
    "xlf_02 = xgb.XGBClassifier(booster=\"gbtree\",\n",
    "                        objective=\"multi:softmax\",\n",
    "                        eval_metric=\"map\",\n",
    "                        num_class=4,\n",
    "                        n_estimators=150,\n",
    "                        max_depth=7,\n",
    "                        reg_alpha=0,\n",
    "                        reg_lambda=1,\n",
    "                        subsample=0.9,\n",
    "                        colsample_bytree=0.3,\n",
    "                        learning_rate=0.1,\n",
    "                        n_jobs=10,\n",
    "                        grow_policy=\"lossguide\"\n",
    "                        )"
   ]
  },
  {
   "cell_type": "code",
   "execution_count": 167,
   "metadata": {},
   "outputs": [],
   "source": [
    "xgbModel_02=xlf_02.fit(train_x_other,train_y_other)"
   ]
  },
  {
   "cell_type": "code",
   "execution_count": 168,
   "metadata": {},
   "outputs": [
    {
     "name": "stdout",
     "output_type": "stream",
     "text": [
      "0.9173769151940628\n"
     ]
    }
   ],
   "source": [
    "y_pred_other = xgbModel_02.predict(test_x_other)\n",
    "macro_f1=f1_score(test_y_other,y_pred_other,average='macro')\n",
    "print(macro_f1)"
   ]
  },
  {
   "cell_type": "code",
   "execution_count": 169,
   "metadata": {},
   "outputs": [
    {
     "data": {
      "text/html": [
       "<div>\n",
       "<style scoped>\n",
       "    .dataframe tbody tr th:only-of-type {\n",
       "        vertical-align: middle;\n",
       "    }\n",
       "\n",
       "    .dataframe tbody tr th {\n",
       "        vertical-align: top;\n",
       "    }\n",
       "\n",
       "    .dataframe thead th {\n",
       "        text-align: right;\n",
       "    }\n",
       "</style>\n",
       "<table border=\"1\" class=\"dataframe\">\n",
       "  <thead>\n",
       "    <tr style=\"text-align: right;\">\n",
       "      <th>col_0</th>\n",
       "      <th>0</th>\n",
       "      <th>1</th>\n",
       "      <th>2</th>\n",
       "      <th>3</th>\n",
       "    </tr>\n",
       "    <tr>\n",
       "      <th>label_index</th>\n",
       "      <th></th>\n",
       "      <th></th>\n",
       "      <th></th>\n",
       "      <th></th>\n",
       "    </tr>\n",
       "  </thead>\n",
       "  <tbody>\n",
       "    <tr>\n",
       "      <th>0</th>\n",
       "      <td>2351</td>\n",
       "      <td>13</td>\n",
       "      <td>333</td>\n",
       "      <td>5</td>\n",
       "    </tr>\n",
       "    <tr>\n",
       "      <th>1</th>\n",
       "      <td>22</td>\n",
       "      <td>1998</td>\n",
       "      <td>167</td>\n",
       "      <td>27</td>\n",
       "    </tr>\n",
       "    <tr>\n",
       "      <th>2</th>\n",
       "      <td>208</td>\n",
       "      <td>62</td>\n",
       "      <td>4179</td>\n",
       "      <td>14</td>\n",
       "    </tr>\n",
       "    <tr>\n",
       "      <th>3</th>\n",
       "      <td>11</td>\n",
       "      <td>8</td>\n",
       "      <td>9</td>\n",
       "      <td>556</td>\n",
       "    </tr>\n",
       "  </tbody>\n",
       "</table>\n",
       "</div>"
      ],
      "text/plain": [
       "col_0           0     1     2    3\n",
       "label_index                       \n",
       "0            2351    13   333    5\n",
       "1              22  1998   167   27\n",
       "2             208    62  4179   14\n",
       "3              11     8     9  556"
      ]
     },
     "execution_count": 169,
     "metadata": {},
     "output_type": "execute_result"
    }
   ],
   "source": [
    "pd.crosstab(test_y_other,y_pred_other)"
   ]
  },
  {
   "cell_type": "code",
   "execution_count": 176,
   "metadata": {},
   "outputs": [
    {
     "name": "stderr",
     "output_type": "stream",
     "text": [
      "D:\\Users\\fjc-pc\\Anaconda3\\lib\\site-packages\\ipykernel_launcher.py:3: SettingWithCopyWarning: \n",
      "A value is trying to be set on a copy of a slice from a DataFrame.\n",
      "Try using .loc[row_indexer,col_indexer] = value instead\n",
      "\n",
      "See the caveats in the documentation: http://pandas.pydata.org/pandas-docs/stable/indexing.html#indexing-view-versus-copy\n",
      "  This is separate from the ipykernel package so we can avoid doing imports until\n"
     ]
    },
    {
     "data": {
      "text/plain": [
       "pred_label_02\n",
       "0F2E4CC10EDBE80F    1132\n",
       "56AFA2A526F96CC9    2307\n",
       "816A9BEBED2D7C99    4759\n",
       "C7E2941B65C6CCD6     645\n",
       "Name: user, dtype: int64"
      ]
     },
     "execution_count": 176,
     "metadata": {},
     "output_type": "execute_result"
    }
   ],
   "source": [
    "num_other=submitData[submitData['pred_label_01']==1]\n",
    "submit_pred_02=xgbModel_02.predict(num_other[modelCols])\n",
    "num_other[\"pred_label_02\"]=lb.inverse_transform(submit_pred_02)\n",
    "num_other.groupby(\"pred_label_02\")[\"user\"].count()"
   ]
  },
  {
   "cell_type": "code",
   "execution_count": 177,
   "metadata": {},
   "outputs": [
    {
     "data": {
      "text/html": [
       "<div>\n",
       "<style scoped>\n",
       "    .dataframe tbody tr th:only-of-type {\n",
       "        vertical-align: middle;\n",
       "    }\n",
       "\n",
       "    .dataframe tbody tr th {\n",
       "        vertical-align: top;\n",
       "    }\n",
       "\n",
       "    .dataframe thead th {\n",
       "        text-align: right;\n",
       "    }\n",
       "</style>\n",
       "<table border=\"1\" class=\"dataframe\">\n",
       "  <thead>\n",
       "    <tr style=\"text-align: right;\">\n",
       "      <th></th>\n",
       "      <th>user</th>\n",
       "      <th>pred_label_02</th>\n",
       "    </tr>\n",
       "  </thead>\n",
       "  <tbody>\n",
       "    <tr>\n",
       "      <th>20</th>\n",
       "      <td>test_12392</td>\n",
       "      <td>816A9BEBED2D7C99</td>\n",
       "    </tr>\n",
       "    <tr>\n",
       "      <th>29</th>\n",
       "      <td>test_14587</td>\n",
       "      <td>816A9BEBED2D7C99</td>\n",
       "    </tr>\n",
       "    <tr>\n",
       "      <th>38</th>\n",
       "      <td>test_1621</td>\n",
       "      <td>0F2E4CC10EDBE80F</td>\n",
       "    </tr>\n",
       "    <tr>\n",
       "      <th>43</th>\n",
       "      <td>test_17448</td>\n",
       "      <td>816A9BEBED2D7C99</td>\n",
       "    </tr>\n",
       "    <tr>\n",
       "      <th>92</th>\n",
       "      <td>test_24702</td>\n",
       "      <td>56AFA2A526F96CC9</td>\n",
       "    </tr>\n",
       "  </tbody>\n",
       "</table>\n",
       "</div>"
      ],
      "text/plain": [
       "          user     pred_label_02\n",
       "20  test_12392  816A9BEBED2D7C99\n",
       "29  test_14587  816A9BEBED2D7C99\n",
       "38   test_1621  0F2E4CC10EDBE80F\n",
       "43  test_17448  816A9BEBED2D7C99\n",
       "92  test_24702  56AFA2A526F96CC9"
      ]
     },
     "execution_count": 177,
     "metadata": {},
     "output_type": "execute_result"
    }
   ],
   "source": [
    "num_other_result=num_other[['user','pred_label_02']]\n",
    "num_other_result.head()"
   ]
  },
  {
   "cell_type": "code",
   "execution_count": 178,
   "metadata": {},
   "outputs": [
    {
     "data": {
      "text/html": [
       "<div>\n",
       "<style scoped>\n",
       "    .dataframe tbody tr th:only-of-type {\n",
       "        vertical-align: middle;\n",
       "    }\n",
       "\n",
       "    .dataframe tbody tr th {\n",
       "        vertical-align: top;\n",
       "    }\n",
       "\n",
       "    .dataframe thead th {\n",
       "        text-align: right;\n",
       "    }\n",
       "</style>\n",
       "<table border=\"1\" class=\"dataframe\">\n",
       "  <thead>\n",
       "    <tr style=\"text-align: right;\">\n",
       "      <th></th>\n",
       "      <th>user</th>\n",
       "      <th>pred</th>\n",
       "    </tr>\n",
       "  </thead>\n",
       "  <tbody>\n",
       "    <tr>\n",
       "      <th>0</th>\n",
       "      <td>test_10047</td>\n",
       "      <td>7C26FADD409BD4B9</td>\n",
       "    </tr>\n",
       "    <tr>\n",
       "      <th>1</th>\n",
       "      <td>test_106</td>\n",
       "      <td>7C26FADD409BD4B9</td>\n",
       "    </tr>\n",
       "    <tr>\n",
       "      <th>2</th>\n",
       "      <td>test_10733</td>\n",
       "      <td>7C26FADD409BD4B9</td>\n",
       "    </tr>\n",
       "    <tr>\n",
       "      <th>3</th>\n",
       "      <td>test_10935</td>\n",
       "      <td>7C26FADD409BD4B9</td>\n",
       "    </tr>\n",
       "    <tr>\n",
       "      <th>4</th>\n",
       "      <td>test_11016</td>\n",
       "      <td>7C26FADD409BD4B9</td>\n",
       "    </tr>\n",
       "  </tbody>\n",
       "</table>\n",
       "</div>"
      ],
      "text/plain": [
       "         user              pred\n",
       "0  test_10047  7C26FADD409BD4B9\n",
       "1    test_106  7C26FADD409BD4B9\n",
       "2  test_10733  7C26FADD409BD4B9\n",
       "3  test_10935  7C26FADD409BD4B9\n",
       "4  test_11016  7C26FADD409BD4B9"
      ]
     },
     "execution_count": 178,
     "metadata": {},
     "output_type": "execute_result"
    }
   ],
   "source": [
    "num_3_result.head()"
   ]
  },
  {
   "cell_type": "code",
   "execution_count": 180,
   "metadata": {},
   "outputs": [],
   "source": [
    "num_other_result.to_csv(r\"E:\\zte\\data\\num_other_result_0112.csv\",index=False,header=False)\n",
    "num_3_result.to_csv(r\"E:\\zte\\data\\num_3_result_0112.csv\",index=False,header=False)"
   ]
  },
  {
   "cell_type": "code",
   "execution_count": 170,
   "metadata": {},
   "outputs": [
    {
     "name": "stdout",
     "output_type": "stream",
     "text": [
      "credit_level 0.00513971\n",
      "gender 0.002629412\n",
      "inet_pd_inst_cnt 0.002747197\n",
      "star_level 0.011989916\n",
      "dt_m_1000 0.027553447\n",
      "dt_m_1003 0.0053529297\n",
      "dt_m_1004 0.006872694\n",
      "dt_m_1005 0.008273842\n",
      "dt_m_1006 0.027432833\n",
      "dt_m_1009 0.007021453\n",
      "dt_m_1011 0.010688735\n",
      "dt_m_1012 0.029331202\n",
      "dt_m_1015 0.02574275\n",
      "dt_m_1017 0.021202948\n",
      "dt_m_1027 0.005110175\n",
      "dt_m_1028 0.025130901\n",
      "dt_m_1041 0.04366638\n",
      "dt_m_1044 0.012168977\n",
      "dt_m_1051 0.02720171\n",
      "dt_m_1053 0.01905783\n",
      "dt_m_1067 0.009060317\n",
      "dt_m_1069 0.012379666\n",
      "dt_m_1073 0.011495113\n",
      "dt_m_1074 0.004399986\n",
      "dt_m_1075 0.00913601\n",
      "dt_m_1085 0.003545707\n",
      "dt_m_1086 0.005099246\n",
      "dt_m_1087 0.012382725\n",
      "dt_m_1096 0.0067855124\n",
      "dt_m_1099 0.0043298765\n",
      "dt_m_1102 0.007965735\n",
      "dt_m_1105 0.0054282886\n",
      "dt_m_1108 0.0038822948\n",
      "dt_m_1111 0.0038681196\n",
      "dt_m_1594 0.009949387\n",
      "dt_m_1601 0.01149767\n",
      "dt_m_1617 0.009692132\n",
      "dt_m_1618 0.0035569428\n",
      "dt_m_1620 0.0044308715\n",
      "dt_m_1630 0.008977667\n",
      "dt_m_1633 0.0033112513\n",
      "last_year_capture_user_flag 0.004942552\n",
      "app1_visits 0.048452996\n",
      "app2_visits 0.01809327\n",
      "app3_visits 0.0055914437\n",
      "app4_visits 0.0039666174\n",
      "app5_visits 0.0034753487\n",
      "app6_visits 0.0030014436\n",
      "app7_visits 0.0029626254\n",
      "app8_visits 0.0026151899\n",
      "access_net_dur 0.00800784\n",
      "tmlRegister_net_dur 0.0069889533\n",
      "prdOpen_dur 0.014745071\n",
      "tmlRegister_dur 0.002522409\n",
      "prdOpen_net_dur 0.002694282\n",
      "brand 0.0022456548\n",
      "product 0.0065849973\n",
      "cust_point_level 0.0047340016\n",
      "age 0.008083974\n",
      "market_price_level 0.0023106935\n",
      "app_cnt 0.004541944\n",
      "dt_m_1012_type 0.015485896\n",
      "dt_m_1027_type 0.008989102\n",
      "dt_m_1032_type 0.000885568\n",
      "dt_m_1034_type 0.001082285\n",
      "dt_m_1075_type 0.0058764564\n",
      "dt_m_1086_type 0.008494298\n",
      "dt_m_1087_type 0.02106427\n",
      "dt_m_1096_type 0.0034316806\n",
      "dt_m_1102_type 0.0033646103\n",
      "dt_m_1108_type 0.0029148753\n",
      "dt_m_1594_type 0.010146848\n",
      "dt_m_1617_type 0.00450092\n",
      "dt_m_1620_type 0.0054392028\n",
      "dt_m_1630_type 0.0072177383\n",
      "dt_m_1633_type 0.0069104983\n",
      "app1_visits_type 0.09338777\n",
      "app2_visits_type 0.016797353\n",
      "app3_visits_type 0.0074752597\n",
      "app4_visits_type 0.0038853385\n",
      "app5_visits_type 0.0037566267\n",
      "app6_visits_type 0.0024921575\n",
      "app7_visits_type 0.002658564\n",
      "app8_visits_type 0.0019923225\n",
      "dt_m_1087_pref 0.0016697249\n",
      "in_10s_per 0.010022978\n",
      "in_10_30s_per 0.009466394\n",
      "in_30_60s_per 0.004866628\n",
      "out_60s_per 0.0508465\n",
      "dt_m_1035_pref 0.052827302\n"
     ]
    }
   ],
   "source": [
    "for x,y in zip(modelCols,xgbModel_02.feature_importances_):\n",
    "    print(x,y)"
   ]
  },
  {
   "cell_type": "code",
   "execution_count": null,
   "metadata": {},
   "outputs": [],
   "source": []
  }
 ],
 "metadata": {
  "kernelspec": {
   "display_name": "Python 3",
   "language": "python",
   "name": "python3"
  },
  "language_info": {
   "codemirror_mode": {
    "name": "ipython",
    "version": 3
   },
   "file_extension": ".py",
   "mimetype": "text/x-python",
   "name": "python",
   "nbconvert_exporter": "python",
   "pygments_lexer": "ipython3",
   "version": "3.7.4"
  }
 },
 "nbformat": 4,
 "nbformat_minor": 2
}
